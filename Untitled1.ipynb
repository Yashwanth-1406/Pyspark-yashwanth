{
  "nbformat": 4,
  "nbformat_minor": 0,
  "metadata": {
    "colab": {
      "provenance": [],
      "authorship_tag": "ABX9TyPXxwr16gq2w5fGu9Ehtj+k",
      "include_colab_link": true
    },
    "kernelspec": {
      "name": "python3",
      "display_name": "Python 3"
    },
    "language_info": {
      "name": "python"
    }
  },
  "cells": [
    {
      "cell_type": "markdown",
      "metadata": {
        "id": "view-in-github",
        "colab_type": "text"
      },
      "source": [
        "<a href=\"https://colab.research.google.com/github/Yashwanth-1406/Pyspark-yashwanth/blob/main/Untitled1.ipynb\" target=\"_parent\"><img src=\"https://colab.research.google.com/assets/colab-badge.svg\" alt=\"Open In Colab\"/></a>"
      ]
    },
    {
      "cell_type": "code",
      "execution_count": 4,
      "metadata": {
        "colab": {
          "base_uri": "https://localhost:8080/"
        },
        "id": "Fbu9SbW3a7BO",
        "outputId": "c17c6a8a-8174-4bb5-f6ec-06daedf270f6"
      },
      "outputs": [
        {
          "output_type": "stream",
          "name": "stdout",
          "text": [
            "Drive already mounted at /content/drive; to attempt to forcibly remount, call drive.mount(\"/content/drive\", force_remount=True).\n"
          ]
        }
      ],
      "source": [
        "\n",
        "from google.colab import drive\n",
        "drive.mount('/content/drive')\n"
      ]
    },
    {
      "cell_type": "code",
      "source": [
        "sql_path = '/content/drive/My Drive/mysqlsampledatabase.sql'\n",
        "\n",
        "with open(sql_path, 'r', encoding='utf-8') as f:\n",
        "    sql_content = f.read()\n",
        "\n",
        "print(sql_content[:500])\n"
      ],
      "metadata": {
        "colab": {
          "base_uri": "https://localhost:8080/"
        },
        "id": "CukwJ9fHb764",
        "outputId": "0736b6dc-cecc-412e-df0b-47f685a678d5"
      },
      "execution_count": 5,
      "outputs": [
        {
          "output_type": "stream",
          "name": "stdout",
          "text": [
            "/* Create the database */\n",
            "CREATE DATABASE  IF NOT EXISTS classicmodels;\n",
            "\n",
            "/* Switch to the classicmodels database */\n",
            "USE classicmodels;\n",
            "\n",
            "/* Drop existing tables  */\n",
            "DROP TABLE IF EXISTS productlines;\n",
            "DROP TABLE IF EXISTS products;\n",
            "DROP TABLE IF EXISTS offices;\n",
            "DROP TABLE IF EXISTS employees;\n",
            "DROP TABLE IF EXISTS customers; \n",
            "DROP TABLE IF EXISTS payments;\n",
            "DROP TABLE IF EXISTS orders;\n",
            "DROP TABLE IF EXISTS orderdetails;\n",
            "\n",
            "/* Create the tables */\n",
            "CREATE TABLE productlines (\n",
            "  productLine varchar(50),\n",
            "\n"
          ]
        }
      ]
    },
    {
      "cell_type": "code",
      "source": [
        "import re\n",
        "import pandas as pd\n",
        "\n",
        "\n",
        "product_inserts = re.findall(r\"INSERT INTO products\\s*\\(.*?\\)\\s*VALUES\\s*(.*?);\", sql_content, re.DOTALL | re.IGNORECASE)\n",
        "\n",
        "\n",
        "all_rows = []\n",
        "for block in product_inserts:\n",
        "    rows = re.findall(r'\\((.*?)\\)', block)\n",
        "    for row in rows:\n",
        "        fields = [x.strip().strip(\"'\") for x in row.split(\",\")]\n",
        "        all_rows.append(fields)\n",
        "\n",
        "columns = [\"productCode\", \"productName\", \"productLine\", \"productScale\", \"productVendor\", \"productDescription\", \"quantityInStock\", \"buyPrice\", \"MSRP\"]\n",
        "\n",
        "\n",
        "df = pd.DataFrame(all_rows, columns=columns)\n",
        "\n",
        "\n",
        "csv_path = \"/content/drive/My Drive/products.csv\"\n",
        "df.to_csv(csv_path, index=False)\n",
        "\n",
        "print(\"CSV saved to:\", csv_path)\n"
      ],
      "metadata": {
        "colab": {
          "base_uri": "https://localhost:8080/"
        },
        "id": "tsG3uXE6b79g",
        "outputId": "90f9fc94-3f00-43cd-ee4f-ca48bb90798b"
      },
      "execution_count": 6,
      "outputs": [
        {
          "output_type": "stream",
          "name": "stdout",
          "text": [
            "CSV saved to: /content/drive/My Drive/products.csv\n"
          ]
        }
      ]
    },
    {
      "cell_type": "code",
      "source": [
        "json_path = \"/content/drive/My Drive/products.json\"\n",
        "df.to_json(json_path, orient='records', lines=True)\n",
        "print(\"JSON saved to:\", json_path)\n"
      ],
      "metadata": {
        "colab": {
          "base_uri": "https://localhost:8080/"
        },
        "id": "mzifa3-Ib8Ag",
        "outputId": "0190711d-37c2-42bb-d3d1-7c1894574678"
      },
      "execution_count": 7,
      "outputs": [
        {
          "output_type": "stream",
          "name": "stdout",
          "text": [
            "JSON saved to: /content/drive/My Drive/products.json\n"
          ]
        }
      ]
    },
    {
      "cell_type": "code",
      "source": [
        "df[\"buyPrice\"] = df[\"buyPrice\"].astype(float) * 1.10  # Increase by 10%\n",
        "df.to_csv(csv_path, index=False)  # Save back to Drive\n"
      ],
      "metadata": {
        "id": "cG-IFAgVb8DI"
      },
      "execution_count": 8,
      "outputs": []
    },
    {
      "cell_type": "code",
      "source": [],
      "metadata": {
        "id": "u0gzykcRb8Fj"
      },
      "execution_count": null,
      "outputs": []
    },
    {
      "cell_type": "code",
      "source": [],
      "metadata": {
        "id": "7qyRDAr3b8H8"
      },
      "execution_count": null,
      "outputs": []
    },
    {
      "cell_type": "code",
      "source": [],
      "metadata": {
        "id": "85pJXr3Rb8LS"
      },
      "execution_count": null,
      "outputs": []
    }
  ]
}