{
  "nbformat": 4,
  "nbformat_minor": 0,
  "metadata": {
    "colab": {
      "provenance": [],
      "authorship_tag": "ABX9TyOTqYYec2MKpUCLD+dDEwWM",
      "include_colab_link": true
    },
    "kernelspec": {
      "name": "python3",
      "display_name": "Python 3"
    },
    "language_info": {
      "name": "python"
    }
  },
  "cells": [
    {
      "cell_type": "markdown",
      "metadata": {
        "id": "view-in-github",
        "colab_type": "text"
      },
      "source": [
        "<a href=\"https://colab.research.google.com/github/Yashwanth-1406/Pyspark-yashwanth/blob/main/spark-04/08/2025.ipynb\" target=\"_parent\"><img src=\"https://colab.research.google.com/assets/colab-badge.svg\" alt=\"Open In Colab\"/></a>"
      ]
    },
    {
      "cell_type": "code",
      "execution_count": null,
      "metadata": {
        "colab": {
          "base_uri": "https://localhost:8080/"
        },
        "id": "Fbu9SbW3a7BO",
        "outputId": "c17c6a8a-8174-4bb5-f6ec-06daedf270f6"
      },
      "outputs": [
        {
          "output_type": "stream",
          "name": "stdout",
          "text": [
            "Drive already mounted at /content/drive; to attempt to forcibly remount, call drive.mount(\"/content/drive\", force_remount=True).\n"
          ]
        }
      ],
      "source": [
        "\n",
        "from google.colab import drive\n",
        "drive.mount('/content/drive')\n"
      ]
    },
    {
      "cell_type": "code",
      "source": [
        "sql_path = '/content/drive/My Drive/mysqlsampledatabase.sql'\n",
        "\n",
        "with open(sql_path, 'r', encoding='utf-8') as f:\n",
        "    sql_content = f.read()\n",
        "\n",
        "print(sql_content[:500])\n"
      ],
      "metadata": {
        "colab": {
          "base_uri": "https://localhost:8080/"
        },
        "id": "CukwJ9fHb764",
        "outputId": "0736b6dc-cecc-412e-df0b-47f685a678d5"
      },
      "execution_count": null,
      "outputs": [
        {
          "output_type": "stream",
          "name": "stdout",
          "text": [
            "/* Create the database */\n",
            "CREATE DATABASE  IF NOT EXISTS classicmodels;\n",
            "\n",
            "/* Switch to the classicmodels database */\n",
            "USE classicmodels;\n",
            "\n",
            "/* Drop existing tables  */\n",
            "DROP TABLE IF EXISTS productlines;\n",
            "DROP TABLE IF EXISTS products;\n",
            "DROP TABLE IF EXISTS offices;\n",
            "DROP TABLE IF EXISTS employees;\n",
            "DROP TABLE IF EXISTS customers; \n",
            "DROP TABLE IF EXISTS payments;\n",
            "DROP TABLE IF EXISTS orders;\n",
            "DROP TABLE IF EXISTS orderdetails;\n",
            "\n",
            "/* Create the tables */\n",
            "CREATE TABLE productlines (\n",
            "  productLine varchar(50),\n",
            "\n"
          ]
        }
      ]
    },
    {
      "cell_type": "code",
      "source": [
        "import re\n",
        "import pandas as pd\n",
        "\n",
        "\n",
        "product_inserts = re.findall(r\"INSERT INTO products\\s*\\(.*?\\)\\s*VALUES\\s*(.*?);\", sql_content, re.DOTALL | re.IGNORECASE)\n",
        "\n",
        "\n",
        "all_rows = []\n",
        "for block in product_inserts:\n",
        "    rows = re.findall(r'\\((.*?)\\)', block)\n",
        "    for row in rows:\n",
        "        fields = [x.strip().strip(\"'\") for x in row.split(\",\")]\n",
        "        all_rows.append(fields)\n",
        "\n",
        "columns = [\"productCode\", \"productName\", \"productLine\", \"productScale\", \"productVendor\", \"productDescription\", \"quantityInStock\", \"buyPrice\", \"MSRP\"]\n",
        "\n",
        "\n",
        "df = pd.DataFrame(all_rows, columns=columns)\n",
        "\n",
        "\n",
        "csv_path = \"/content/drive/My Drive/products.csv\"\n",
        "df.to_csv(csv_path, index=False)\n",
        "\n",
        "print(\"CSV saved to:\", csv_path)\n"
      ],
      "metadata": {
        "colab": {
          "base_uri": "https://localhost:8080/"
        },
        "id": "tsG3uXE6b79g",
        "outputId": "90f9fc94-3f00-43cd-ee4f-ca48bb90798b"
      },
      "execution_count": null,
      "outputs": [
        {
          "output_type": "stream",
          "name": "stdout",
          "text": [
            "CSV saved to: /content/drive/My Drive/products.csv\n"
          ]
        }
      ]
    },
    {
      "cell_type": "code",
      "source": [
        "json_path = \"/content/drive/My Drive/products.json\"\n",
        "df.to_json(json_path, orient='records', lines=True)\n",
        "print(\"JSON saved to:\", json_path)\n"
      ],
      "metadata": {
        "colab": {
          "base_uri": "https://localhost:8080/"
        },
        "id": "mzifa3-Ib8Ag",
        "outputId": "0190711d-37c2-42bb-d3d1-7c1894574678"
      },
      "execution_count": null,
      "outputs": [
        {
          "output_type": "stream",
          "name": "stdout",
          "text": [
            "JSON saved to: /content/drive/My Drive/products.json\n"
          ]
        }
      ]
    },
    {
      "cell_type": "code",
      "source": [
        "df[\"buyPrice\"] = df[\"buyPrice\"].astype(float) * 1.10  # Increase by 10%\n",
        "df.to_csv(csv_path, index=False)  # Save back to Drive\n"
      ],
      "metadata": {
        "id": "cG-IFAgVb8DI"
      },
      "execution_count": null,
      "outputs": []
    },
    {
      "cell_type": "code",
      "source": [
        "from google.colab import drive\n",
        "drive.mount('/content/drive')\n",
        "\n",
        "sql_path = '/content/drive/My Drive/mysqlsampledatabase.sql'\n",
        "\n",
        "with open(sql_path, 'r', encoding='utf-8') as f:\n",
        "    sql_content = f.read()\n"
      ],
      "metadata": {
        "colab": {
          "base_uri": "https://localhost:8080/"
        },
        "id": "u0gzykcRb8Fj",
        "outputId": "fcc00a6e-8ec9-4d83-8895-3791c3f09d33"
      },
      "execution_count": null,
      "outputs": [
        {
          "output_type": "stream",
          "name": "stdout",
          "text": [
            "Drive already mounted at /content/drive; to attempt to forcibly remount, call drive.mount(\"/content/drive\", force_remount=True).\n"
          ]
        }
      ]
    },
    {
      "cell_type": "code",
      "source": [
        "sql_path = '/content/drive/My Drive/mysqlsampledatabase.sql'\n",
        "\n",
        "with open(sql_path, 'r', encoding='utf-8') as f:\n",
        "    sql_content = f.read()\n",
        "\n",
        "print(sql_content[:500])  # Optional: Preview first 500 characters\n"
      ],
      "metadata": {
        "colab": {
          "base_uri": "https://localhost:8080/"
        },
        "id": "7qyRDAr3b8H8",
        "outputId": "cdd6b4d7-9149-4189-aade-f331f7d4a93d"
      },
      "execution_count": null,
      "outputs": [
        {
          "output_type": "stream",
          "name": "stdout",
          "text": [
            "/* Create the database */\n",
            "CREATE DATABASE  IF NOT EXISTS classicmodels;\n",
            "\n",
            "/* Switch to the classicmodels database */\n",
            "USE classicmodels;\n",
            "\n",
            "/* Drop existing tables  */\n",
            "DROP TABLE IF EXISTS productlines;\n",
            "DROP TABLE IF EXISTS products;\n",
            "DROP TABLE IF EXISTS offices;\n",
            "DROP TABLE IF EXISTS employees;\n",
            "DROP TABLE IF EXISTS customers; \n",
            "DROP TABLE IF EXISTS payments;\n",
            "DROP TABLE IF EXISTS orders;\n",
            "DROP TABLE IF EXISTS orderdetails;\n",
            "\n",
            "/* Create the tables */\n",
            "CREATE TABLE productlines (\n",
            "  productLine varchar(50),\n",
            "\n"
          ]
        }
      ]
    },
    {
      "cell_type": "code",
      "source": [
        "sql_path = '/content/drive/My Drive/mysqlsampledatabase.sql'\n",
        "\n",
        "with open(sql_path, 'r', encoding='utf-8') as f:\n",
        "    sql_content = f.read()\n"
      ],
      "metadata": {
        "id": "85pJXr3Rb8LS"
      },
      "execution_count": null,
      "outputs": []
    },
    {
      "cell_type": "code",
      "source": [
        "import re\n",
        "import pandas as pd\n",
        "\n",
        "# Match the INSERT statement for 'products'\n",
        "match = re.search(r\"INSERT\\s+INTO\\s+products\\s*\\((.*?)\\)\\s*VALUES\\s*(.*?);\", sql_content, flags=re.DOTALL | re.IGNORECASE)\n",
        "\n",
        "columns = [col.strip() for col in match.group(1).split(\",\")]\n",
        "rows_raw = match.group(2)\n",
        "\n",
        "# Split into rows inside VALUES\n",
        "rows = re.findall(r\"\\((.*?)\\)\", rows_raw)\n",
        "\n",
        "parsed_rows = []\n",
        "for row in rows:\n",
        "    # Split while handling quotes and commas inside strings\n",
        "    parts = re.findall(r\"'(.*?)'|(\\bNULL\\b|\\b\\d+\\.\\d+\\b|\\b\\d+\\b)\", row)\n",
        "    cleaned = []\n",
        "    for val in parts:\n",
        "        if val[0]:\n",
        "            cleaned.append(val[0])  # It's a quoted string\n",
        "        elif val[1] == 'NULL':\n",
        "            cleaned.append(None)\n",
        "        else:\n",
        "            try:\n",
        "                cleaned.append(float(val[1]) if '.' in val[1] else int(val[1]))\n",
        "            except:\n",
        "                cleaned.append(val[1])\n",
        "    parsed_rows.append(cleaned)\n",
        "\n",
        "# Convert to DataFrame\n",
        "df = pd.DataFrame(parsed_rows, columns=columns)\n",
        "df.head()\n"
      ],
      "metadata": {
        "colab": {
          "base_uri": "https://localhost:8080/",
          "height": 153
        },
        "id": "hyLklI6ogE69",
        "outputId": "1a6d0d68-ed4b-4f58-8bd2-509eb69574f9"
      },
      "execution_count": null,
      "outputs": [
        {
          "output_type": "execute_result",
          "data": {
            "text/plain": [
              "  productCode                            productName  productLine  \\\n",
              "0    S10_1678  1969 Harley Davidson Ultimate Chopper  Motorcycles   \n",
              "\n",
              "  productScale    productVendor  \\\n",
              "0         1:10  Min Lin Diecast   \n",
              "\n",
              "                                  productDescription  quantityInStock  \\\n",
              "0  This replica features working kickstand, front...             7933   \n",
              "\n",
              "  buyPrice   MSRP  \n",
              "0    48.81  95.70  "
            ],
            "text/html": [
              "\n",
              "  <div id=\"df-76ffa981-fa28-42b9-95d6-ae531514008b\" class=\"colab-df-container\">\n",
              "    <div>\n",
              "<style scoped>\n",
              "    .dataframe tbody tr th:only-of-type {\n",
              "        vertical-align: middle;\n",
              "    }\n",
              "\n",
              "    .dataframe tbody tr th {\n",
              "        vertical-align: top;\n",
              "    }\n",
              "\n",
              "    .dataframe thead th {\n",
              "        text-align: right;\n",
              "    }\n",
              "</style>\n",
              "<table border=\"1\" class=\"dataframe\">\n",
              "  <thead>\n",
              "    <tr style=\"text-align: right;\">\n",
              "      <th></th>\n",
              "      <th>productCode</th>\n",
              "      <th>productName</th>\n",
              "      <th>productLine</th>\n",
              "      <th>productScale</th>\n",
              "      <th>productVendor</th>\n",
              "      <th>productDescription</th>\n",
              "      <th>quantityInStock</th>\n",
              "      <th>buyPrice</th>\n",
              "      <th>MSRP</th>\n",
              "    </tr>\n",
              "  </thead>\n",
              "  <tbody>\n",
              "    <tr>\n",
              "      <th>0</th>\n",
              "      <td>S10_1678</td>\n",
              "      <td>1969 Harley Davidson Ultimate Chopper</td>\n",
              "      <td>Motorcycles</td>\n",
              "      <td>1:10</td>\n",
              "      <td>Min Lin Diecast</td>\n",
              "      <td>This replica features working kickstand, front...</td>\n",
              "      <td>7933</td>\n",
              "      <td>48.81</td>\n",
              "      <td>95.70</td>\n",
              "    </tr>\n",
              "  </tbody>\n",
              "</table>\n",
              "</div>\n",
              "    <div class=\"colab-df-buttons\">\n",
              "\n",
              "  <div class=\"colab-df-container\">\n",
              "    <button class=\"colab-df-convert\" onclick=\"convertToInteractive('df-76ffa981-fa28-42b9-95d6-ae531514008b')\"\n",
              "            title=\"Convert this dataframe to an interactive table.\"\n",
              "            style=\"display:none;\">\n",
              "\n",
              "  <svg xmlns=\"http://www.w3.org/2000/svg\" height=\"24px\" viewBox=\"0 -960 960 960\">\n",
              "    <path d=\"M120-120v-720h720v720H120Zm60-500h600v-160H180v160Zm220 220h160v-160H400v160Zm0 220h160v-160H400v160ZM180-400h160v-160H180v160Zm440 0h160v-160H620v160ZM180-180h160v-160H180v160Zm440 0h160v-160H620v160Z\"/>\n",
              "  </svg>\n",
              "    </button>\n",
              "\n",
              "  <style>\n",
              "    .colab-df-container {\n",
              "      display:flex;\n",
              "      gap: 12px;\n",
              "    }\n",
              "\n",
              "    .colab-df-convert {\n",
              "      background-color: #E8F0FE;\n",
              "      border: none;\n",
              "      border-radius: 50%;\n",
              "      cursor: pointer;\n",
              "      display: none;\n",
              "      fill: #1967D2;\n",
              "      height: 32px;\n",
              "      padding: 0 0 0 0;\n",
              "      width: 32px;\n",
              "    }\n",
              "\n",
              "    .colab-df-convert:hover {\n",
              "      background-color: #E2EBFA;\n",
              "      box-shadow: 0px 1px 2px rgba(60, 64, 67, 0.3), 0px 1px 3px 1px rgba(60, 64, 67, 0.15);\n",
              "      fill: #174EA6;\n",
              "    }\n",
              "\n",
              "    .colab-df-buttons div {\n",
              "      margin-bottom: 4px;\n",
              "    }\n",
              "\n",
              "    [theme=dark] .colab-df-convert {\n",
              "      background-color: #3B4455;\n",
              "      fill: #D2E3FC;\n",
              "    }\n",
              "\n",
              "    [theme=dark] .colab-df-convert:hover {\n",
              "      background-color: #434B5C;\n",
              "      box-shadow: 0px 1px 3px 1px rgba(0, 0, 0, 0.15);\n",
              "      filter: drop-shadow(0px 1px 2px rgba(0, 0, 0, 0.3));\n",
              "      fill: #FFFFFF;\n",
              "    }\n",
              "  </style>\n",
              "\n",
              "    <script>\n",
              "      const buttonEl =\n",
              "        document.querySelector('#df-76ffa981-fa28-42b9-95d6-ae531514008b button.colab-df-convert');\n",
              "      buttonEl.style.display =\n",
              "        google.colab.kernel.accessAllowed ? 'block' : 'none';\n",
              "\n",
              "      async function convertToInteractive(key) {\n",
              "        const element = document.querySelector('#df-76ffa981-fa28-42b9-95d6-ae531514008b');\n",
              "        const dataTable =\n",
              "          await google.colab.kernel.invokeFunction('convertToInteractive',\n",
              "                                                    [key], {});\n",
              "        if (!dataTable) return;\n",
              "\n",
              "        const docLinkHtml = 'Like what you see? Visit the ' +\n",
              "          '<a target=\"_blank\" href=https://colab.research.google.com/notebooks/data_table.ipynb>data table notebook</a>'\n",
              "          + ' to learn more about interactive tables.';\n",
              "        element.innerHTML = '';\n",
              "        dataTable['output_type'] = 'display_data';\n",
              "        await google.colab.output.renderOutput(dataTable, element);\n",
              "        const docLink = document.createElement('div');\n",
              "        docLink.innerHTML = docLinkHtml;\n",
              "        element.appendChild(docLink);\n",
              "      }\n",
              "    </script>\n",
              "  </div>\n",
              "\n",
              "\n",
              "    </div>\n",
              "  </div>\n"
            ],
            "application/vnd.google.colaboratory.intrinsic+json": {
              "type": "dataframe",
              "variable_name": "df",
              "summary": "{\n  \"name\": \"df\",\n  \"rows\": 1,\n  \"fields\": [\n    {\n      \"column\": \"productCode\",\n      \"properties\": {\n        \"dtype\": \"string\",\n        \"num_unique_values\": 1,\n        \"samples\": [\n          \"S10_1678\"\n        ],\n        \"semantic_type\": \"\",\n        \"description\": \"\"\n      }\n    },\n    {\n      \"column\": \"productName\",\n      \"properties\": {\n        \"dtype\": \"string\",\n        \"num_unique_values\": 1,\n        \"samples\": [\n          \"1969 Harley Davidson Ultimate Chopper\"\n        ],\n        \"semantic_type\": \"\",\n        \"description\": \"\"\n      }\n    },\n    {\n      \"column\": \"productLine\",\n      \"properties\": {\n        \"dtype\": \"string\",\n        \"num_unique_values\": 1,\n        \"samples\": [\n          \"Motorcycles\"\n        ],\n        \"semantic_type\": \"\",\n        \"description\": \"\"\n      }\n    },\n    {\n      \"column\": \"productScale\",\n      \"properties\": {\n        \"dtype\": \"object\",\n        \"num_unique_values\": 1,\n        \"samples\": [\n          \"1:10\"\n        ],\n        \"semantic_type\": \"\",\n        \"description\": \"\"\n      }\n    },\n    {\n      \"column\": \"productVendor\",\n      \"properties\": {\n        \"dtype\": \"string\",\n        \"num_unique_values\": 1,\n        \"samples\": [\n          \"Min Lin Diecast\"\n        ],\n        \"semantic_type\": \"\",\n        \"description\": \"\"\n      }\n    },\n    {\n      \"column\": \"productDescription\",\n      \"properties\": {\n        \"dtype\": \"string\",\n        \"num_unique_values\": 1,\n        \"samples\": [\n          \"This replica features working kickstand, front suspension, gear-shift lever, footbrake lever, drive chain, wheels and steering. All parts are particularly delicate due to their precise scale and require special care and attention.\"\n        ],\n        \"semantic_type\": \"\",\n        \"description\": \"\"\n      }\n    },\n    {\n      \"column\": \"quantityInStock\",\n      \"properties\": {\n        \"dtype\": \"number\",\n        \"std\": null,\n        \"min\": 7933,\n        \"max\": 7933,\n        \"num_unique_values\": 1,\n        \"samples\": [\n          7933\n        ],\n        \"semantic_type\": \"\",\n        \"description\": \"\"\n      }\n    },\n    {\n      \"column\": \"buyPrice\",\n      \"properties\": {\n        \"dtype\": \"string\",\n        \"num_unique_values\": 1,\n        \"samples\": [\n          \"48.81\"\n        ],\n        \"semantic_type\": \"\",\n        \"description\": \"\"\n      }\n    },\n    {\n      \"column\": \"MSRP\",\n      \"properties\": {\n        \"dtype\": \"string\",\n        \"num_unique_values\": 1,\n        \"samples\": [\n          \"95.70\"\n        ],\n        \"semantic_type\": \"\",\n        \"description\": \"\"\n      }\n    }\n  ]\n}"
            }
          },
          "metadata": {},
          "execution_count": 21
        }
      ]
    },
    {
      "cell_type": "code",
      "source": [
        "import sqlite3\n",
        "\n",
        "conn = sqlite3.connect(':memory:')\n",
        "df.to_sql('products', conn, if_exists='replace', index=False)\n",
        "\n",
        "# Check if data was loaded\n",
        "pd.read_sql(\"SELECT * FROM products LIMIT 5\", conn)\n"
      ],
      "metadata": {
        "colab": {
          "base_uri": "https://localhost:8080/",
          "height": 153
        },
        "id": "Ke-2TJo3gK8e",
        "outputId": "4f935f30-9aa4-4676-a4bc-e362d297c9bd"
      },
      "execution_count": null,
      "outputs": [
        {
          "output_type": "execute_result",
          "data": {
            "text/plain": [
              "  productCode                            productName  productLine  \\\n",
              "0    S10_1678  1969 Harley Davidson Ultimate Chopper  Motorcycles   \n",
              "\n",
              "  productScale    productVendor  \\\n",
              "0         1:10  Min Lin Diecast   \n",
              "\n",
              "                                  productDescription  quantityInStock  \\\n",
              "0  This replica features working kickstand, front...             7933   \n",
              "\n",
              "  buyPrice   MSRP  \n",
              "0    48.81  95.70  "
            ],
            "text/html": [
              "\n",
              "  <div id=\"df-47ac083a-de2a-4884-8176-30dd7c583a8e\" class=\"colab-df-container\">\n",
              "    <div>\n",
              "<style scoped>\n",
              "    .dataframe tbody tr th:only-of-type {\n",
              "        vertical-align: middle;\n",
              "    }\n",
              "\n",
              "    .dataframe tbody tr th {\n",
              "        vertical-align: top;\n",
              "    }\n",
              "\n",
              "    .dataframe thead th {\n",
              "        text-align: right;\n",
              "    }\n",
              "</style>\n",
              "<table border=\"1\" class=\"dataframe\">\n",
              "  <thead>\n",
              "    <tr style=\"text-align: right;\">\n",
              "      <th></th>\n",
              "      <th>productCode</th>\n",
              "      <th>productName</th>\n",
              "      <th>productLine</th>\n",
              "      <th>productScale</th>\n",
              "      <th>productVendor</th>\n",
              "      <th>productDescription</th>\n",
              "      <th>quantityInStock</th>\n",
              "      <th>buyPrice</th>\n",
              "      <th>MSRP</th>\n",
              "    </tr>\n",
              "  </thead>\n",
              "  <tbody>\n",
              "    <tr>\n",
              "      <th>0</th>\n",
              "      <td>S10_1678</td>\n",
              "      <td>1969 Harley Davidson Ultimate Chopper</td>\n",
              "      <td>Motorcycles</td>\n",
              "      <td>1:10</td>\n",
              "      <td>Min Lin Diecast</td>\n",
              "      <td>This replica features working kickstand, front...</td>\n",
              "      <td>7933</td>\n",
              "      <td>48.81</td>\n",
              "      <td>95.70</td>\n",
              "    </tr>\n",
              "  </tbody>\n",
              "</table>\n",
              "</div>\n",
              "    <div class=\"colab-df-buttons\">\n",
              "\n",
              "  <div class=\"colab-df-container\">\n",
              "    <button class=\"colab-df-convert\" onclick=\"convertToInteractive('df-47ac083a-de2a-4884-8176-30dd7c583a8e')\"\n",
              "            title=\"Convert this dataframe to an interactive table.\"\n",
              "            style=\"display:none;\">\n",
              "\n",
              "  <svg xmlns=\"http://www.w3.org/2000/svg\" height=\"24px\" viewBox=\"0 -960 960 960\">\n",
              "    <path d=\"M120-120v-720h720v720H120Zm60-500h600v-160H180v160Zm220 220h160v-160H400v160Zm0 220h160v-160H400v160ZM180-400h160v-160H180v160Zm440 0h160v-160H620v160ZM180-180h160v-160H180v160Zm440 0h160v-160H620v160Z\"/>\n",
              "  </svg>\n",
              "    </button>\n",
              "\n",
              "  <style>\n",
              "    .colab-df-container {\n",
              "      display:flex;\n",
              "      gap: 12px;\n",
              "    }\n",
              "\n",
              "    .colab-df-convert {\n",
              "      background-color: #E8F0FE;\n",
              "      border: none;\n",
              "      border-radius: 50%;\n",
              "      cursor: pointer;\n",
              "      display: none;\n",
              "      fill: #1967D2;\n",
              "      height: 32px;\n",
              "      padding: 0 0 0 0;\n",
              "      width: 32px;\n",
              "    }\n",
              "\n",
              "    .colab-df-convert:hover {\n",
              "      background-color: #E2EBFA;\n",
              "      box-shadow: 0px 1px 2px rgba(60, 64, 67, 0.3), 0px 1px 3px 1px rgba(60, 64, 67, 0.15);\n",
              "      fill: #174EA6;\n",
              "    }\n",
              "\n",
              "    .colab-df-buttons div {\n",
              "      margin-bottom: 4px;\n",
              "    }\n",
              "\n",
              "    [theme=dark] .colab-df-convert {\n",
              "      background-color: #3B4455;\n",
              "      fill: #D2E3FC;\n",
              "    }\n",
              "\n",
              "    [theme=dark] .colab-df-convert:hover {\n",
              "      background-color: #434B5C;\n",
              "      box-shadow: 0px 1px 3px 1px rgba(0, 0, 0, 0.15);\n",
              "      filter: drop-shadow(0px 1px 2px rgba(0, 0, 0, 0.3));\n",
              "      fill: #FFFFFF;\n",
              "    }\n",
              "  </style>\n",
              "\n",
              "    <script>\n",
              "      const buttonEl =\n",
              "        document.querySelector('#df-47ac083a-de2a-4884-8176-30dd7c583a8e button.colab-df-convert');\n",
              "      buttonEl.style.display =\n",
              "        google.colab.kernel.accessAllowed ? 'block' : 'none';\n",
              "\n",
              "      async function convertToInteractive(key) {\n",
              "        const element = document.querySelector('#df-47ac083a-de2a-4884-8176-30dd7c583a8e');\n",
              "        const dataTable =\n",
              "          await google.colab.kernel.invokeFunction('convertToInteractive',\n",
              "                                                    [key], {});\n",
              "        if (!dataTable) return;\n",
              "\n",
              "        const docLinkHtml = 'Like what you see? Visit the ' +\n",
              "          '<a target=\"_blank\" href=https://colab.research.google.com/notebooks/data_table.ipynb>data table notebook</a>'\n",
              "          + ' to learn more about interactive tables.';\n",
              "        element.innerHTML = '';\n",
              "        dataTable['output_type'] = 'display_data';\n",
              "        await google.colab.output.renderOutput(dataTable, element);\n",
              "        const docLink = document.createElement('div');\n",
              "        docLink.innerHTML = docLinkHtml;\n",
              "        element.appendChild(docLink);\n",
              "      }\n",
              "    </script>\n",
              "  </div>\n",
              "\n",
              "\n",
              "    </div>\n",
              "  </div>\n"
            ],
            "application/vnd.google.colaboratory.intrinsic+json": {
              "type": "dataframe",
              "summary": "{\n  \"name\": \"pd\",\n  \"rows\": 1,\n  \"fields\": [\n    {\n      \"column\": \"productCode\",\n      \"properties\": {\n        \"dtype\": \"string\",\n        \"num_unique_values\": 1,\n        \"samples\": [\n          \"S10_1678\"\n        ],\n        \"semantic_type\": \"\",\n        \"description\": \"\"\n      }\n    },\n    {\n      \"column\": \"productName\",\n      \"properties\": {\n        \"dtype\": \"string\",\n        \"num_unique_values\": 1,\n        \"samples\": [\n          \"1969 Harley Davidson Ultimate Chopper\"\n        ],\n        \"semantic_type\": \"\",\n        \"description\": \"\"\n      }\n    },\n    {\n      \"column\": \"productLine\",\n      \"properties\": {\n        \"dtype\": \"string\",\n        \"num_unique_values\": 1,\n        \"samples\": [\n          \"Motorcycles\"\n        ],\n        \"semantic_type\": \"\",\n        \"description\": \"\"\n      }\n    },\n    {\n      \"column\": \"productScale\",\n      \"properties\": {\n        \"dtype\": \"object\",\n        \"num_unique_values\": 1,\n        \"samples\": [\n          \"1:10\"\n        ],\n        \"semantic_type\": \"\",\n        \"description\": \"\"\n      }\n    },\n    {\n      \"column\": \"productVendor\",\n      \"properties\": {\n        \"dtype\": \"string\",\n        \"num_unique_values\": 1,\n        \"samples\": [\n          \"Min Lin Diecast\"\n        ],\n        \"semantic_type\": \"\",\n        \"description\": \"\"\n      }\n    },\n    {\n      \"column\": \"productDescription\",\n      \"properties\": {\n        \"dtype\": \"string\",\n        \"num_unique_values\": 1,\n        \"samples\": [\n          \"This replica features working kickstand, front suspension, gear-shift lever, footbrake lever, drive chain, wheels and steering. All parts are particularly delicate due to their precise scale and require special care and attention.\"\n        ],\n        \"semantic_type\": \"\",\n        \"description\": \"\"\n      }\n    },\n    {\n      \"column\": \"quantityInStock\",\n      \"properties\": {\n        \"dtype\": \"number\",\n        \"std\": null,\n        \"min\": 7933,\n        \"max\": 7933,\n        \"num_unique_values\": 1,\n        \"samples\": [\n          7933\n        ],\n        \"semantic_type\": \"\",\n        \"description\": \"\"\n      }\n    },\n    {\n      \"column\": \"buyPrice\",\n      \"properties\": {\n        \"dtype\": \"string\",\n        \"num_unique_values\": 1,\n        \"samples\": [\n          \"48.81\"\n        ],\n        \"semantic_type\": \"\",\n        \"description\": \"\"\n      }\n    },\n    {\n      \"column\": \"MSRP\",\n      \"properties\": {\n        \"dtype\": \"string\",\n        \"num_unique_values\": 1,\n        \"samples\": [\n          \"95.70\"\n        ],\n        \"semantic_type\": \"\",\n        \"description\": \"\"\n      }\n    }\n  ]\n}"
            }
          },
          "metadata": {},
          "execution_count": 22
        }
      ]
    },
    {
      "cell_type": "code",
      "source": [
        "df.to_csv('/content/drive/My Drive/products_clean.csv', index=False)\n",
        "df.to_json('/content/drive/My Drive/products_clean.json', orient='records', lines=True)\n"
      ],
      "metadata": {
        "id": "OT3VH7vagK_I"
      },
      "execution_count": null,
      "outputs": []
    },
    {
      "cell_type": "code",
      "source": [
        "match = re.search(r\"INSERT\\s+INTO\\s+customers\\s*\\((.*?)\\)\\s*VALUES\\s*(.*?);\", sql_content, flags=re.DOTALL | re.IGNORECASE)\n"
      ],
      "metadata": {
        "id": "t4bq4HlngLBz"
      },
      "execution_count": null,
      "outputs": []
    },
    {
      "cell_type": "code",
      "source": [
        "import re\n",
        "import pandas as pd\n",
        "import sqlite3\n",
        "import csv\n",
        "import io\n",
        "from tqdm import tqdm\n",
        "from google.colab import drive\n",
        "\n",
        "# Step 1: Mount Drive (skip if already mounted)\n",
        "drive.mount('/content/drive')\n",
        "\n",
        "# Step 2: Load the SQL file\n",
        "sql_path = '/content/drive/My Drive/mysqlsampledatabase.sql'\n",
        "with open(sql_path, 'r', encoding='utf-8') as f:\n",
        "    sql_content = f.read()\n",
        "\n",
        "# Step 3: Extract all INSERT INTO blocks\n",
        "insert_blocks = re.findall(\n",
        "    r\"INSERT\\s+INTO\\s+(\\w+)\\s*\\((.*?)\\)\\s*VALUES\\s*(.*?);\",\n",
        "    sql_content, re.DOTALL | re.IGNORECASE\n",
        ")\n",
        "\n",
        "# Step 4: Prepare SQLite in-memory DB\n",
        "conn = sqlite3.connect(':memory:')\n",
        "cursor = conn.cursor()\n",
        "\n",
        "# Step 5: Process each INSERT block\n",
        "for table_name, columns_str, values_block in tqdm(insert_blocks, desc=\"Processing tables\"):\n",
        "\n",
        "    columns = [col.strip() for col in columns_str.split(\",\")]\n",
        "\n",
        "    # Extract each row\n",
        "    row_matches = re.findall(r\"\\((.*?)\\)\", values_block)\n",
        "    parsed_rows = []\n",
        "\n",
        "    for row in row_matches:\n",
        "        try:\n",
        "            # Use csv.reader to safely handle commas inside quotes\n",
        "            f = io.StringIO(row)\n",
        "            reader = csv.reader(f, skipinitialspace=True, quotechar=\"'\")\n",
        "            parsed = next(reader)\n",
        "\n",
        "            # Convert 'NULL' to None\n",
        "            parsed = [None if val.upper() == 'NULL' else val for val in parsed]\n",
        "\n",
        "            # ✅ Only add rows that match column count\n",
        "            if len(parsed) == len(columns):\n",
        "                parsed_rows.append(parsed)\n",
        "            else:\n",
        "                print(f\"⚠️ Skipped row in `{table_name}`: column mismatch ({len(parsed)} vs {len(columns)})\")\n",
        "\n",
        "        except Exception as e:\n",
        "            print(f\"⚠️ Error parsing row in `{table_name}`: {e}\")\n",
        "            continue\n",
        "\n",
        "    if not parsed_rows:\n",
        "        print(f\"❌ Skipping `{table_name}`: no valid rows.\")\n",
        "        continue\n",
        "\n",
        "    # Create DataFrame\n",
        "    try:\n",
        "        df = pd.DataFrame(parsed_rows, columns=columns)\n",
        "    except Exception as e:\n",
        "        print(f\"❌ DataFrame creation failed for `{table_name}`: {e}\")\n",
        "        continue\n",
        "\n",
        "    # Save CSV and JSON to Drive\n",
        "    csv_path = f\"/content/drive/My Drive/{table_name}.csv\"\n",
        "    json_path = f\"/content/drive/My Drive/{table_name}.json\"\n",
        "    df.to_csv(csv_path, index=False)\n",
        "    df.to_json(json_path, orient='records', lines=True)\n",
        "\n",
        "    # Load into SQLite\n",
        "    try:\n",
        "        df.to_sql(table_name, conn, if_exists='replace', index=False)\n",
        "    except Exception as e:\n",
        "        print(f\"⚠️ SQLite insert failed for `{table_name}`: {e}\")\n",
        "\n",
        "    print(f\"✅ {table_name}: {len(df)} rows → saved to Drive + SQLite\")\n",
        "\n",
        "print(\"🎉 ALL TABLES PROCESSED SUCCESSFULLY!\")\n"
      ],
      "metadata": {
        "colab": {
          "base_uri": "https://localhost:8080/"
        },
        "id": "zp4gFTGrgLEc",
        "outputId": "c376fce0-5cdc-439f-d98d-4315e3ff5a9a"
      },
      "execution_count": null,
      "outputs": [
        {
          "output_type": "stream",
          "name": "stdout",
          "text": [
            "Drive already mounted at /content/drive; to attempt to forcibly remount, call drive.mount(\"/content/drive\", force_remount=True).\n"
          ]
        },
        {
          "output_type": "stream",
          "name": "stderr",
          "text": [
            "Processing tables:  75%|███████▌  | 6/8 [00:00<00:00, 59.26it/s]"
          ]
        },
        {
          "output_type": "stream",
          "name": "stdout",
          "text": [
            "⚠️ Skipped row in `productlines`: column mismatch (6 vs 4)\n",
            "✅ productlines: 6 rows → saved to Drive + SQLite\n",
            "✅ products: 1 rows → saved to Drive + SQLite\n",
            "✅ offices: 7 rows → saved to Drive + SQLite\n",
            "✅ employees: 23 rows → saved to Drive + SQLite\n",
            "⚠️ Skipped row in `customers`: column mismatch (5 vs 13)\n",
            "⚠️ Skipped row in `customers`: column mismatch (5 vs 13)\n",
            "⚠️ Skipped row in `customers`: column mismatch (5 vs 13)\n",
            "⚠️ Skipped row in `customers`: column mismatch (6 vs 13)\n",
            "⚠️ Skipped row in `customers`: column mismatch (5 vs 13)\n",
            "⚠️ Skipped row in `customers`: column mismatch (5 vs 13)\n",
            "⚠️ Skipped row in `customers`: column mismatch (5 vs 13)\n",
            "⚠️ Skipped row in `customers`: column mismatch (5 vs 13)\n",
            "⚠️ Skipped row in `customers`: column mismatch (5 vs 13)\n",
            "⚠️ Skipped row in `customers`: column mismatch (5 vs 13)\n",
            "⚠️ Skipped row in `customers`: column mismatch (5 vs 13)\n",
            "⚠️ Skipped row in `customers`: column mismatch (5 vs 13)\n",
            "⚠️ Skipped row in `customers`: column mismatch (14 vs 13)\n",
            "⚠️ Skipped row in `customers`: column mismatch (5 vs 13)\n",
            "⚠️ Skipped row in `customers`: column mismatch (5 vs 13)\n",
            "⚠️ Skipped row in `customers`: column mismatch (14 vs 13)\n",
            "⚠️ Skipped row in `customers`: column mismatch (5 vs 13)\n",
            "⚠️ Skipped row in `customers`: column mismatch (5 vs 13)\n",
            "⚠️ Skipped row in `customers`: column mismatch (5 vs 13)\n",
            "⚠️ Skipped row in `customers`: column mismatch (5 vs 13)\n",
            "⚠️ Skipped row in `customers`: column mismatch (5 vs 13)\n",
            "⚠️ Skipped row in `customers`: column mismatch (5 vs 13)\n",
            "✅ customers: 100 rows → saved to Drive + SQLite\n",
            "⚠️ Skipped row in `orders`: column mismatch (6 vs 7)\n",
            "✅ orders: 63 rows → saved to Drive + SQLite\n",
            "✅ payments: 273 rows → saved to Drive + SQLite\n"
          ]
        },
        {
          "output_type": "stream",
          "name": "stderr",
          "text": [
            "\rProcessing tables: 100%|██████████| 8/8 [00:00<00:00, 41.26it/s]"
          ]
        },
        {
          "output_type": "stream",
          "name": "stdout",
          "text": [
            "✅ orderdetails: 2996 rows → saved to Drive + SQLite\n",
            "🎉 ALL TABLES PROCESSED SUCCESSFULLY!\n"
          ]
        },
        {
          "output_type": "stream",
          "name": "stderr",
          "text": [
            "\n"
          ]
        }
      ]
    },
    {
      "cell_type": "code",
      "source": [
        "# Example: query products\n",
        "pd.read_sql(\"SELECT * FROM products LIMIT 5\", conn)\n"
      ],
      "metadata": {
        "colab": {
          "base_uri": "https://localhost:8080/",
          "height": 153
        },
        "id": "fKUwPk0ygLHB",
        "outputId": "9362fe0e-f7d5-40c5-dfb7-a5896da42391"
      },
      "execution_count": null,
      "outputs": [
        {
          "output_type": "execute_result",
          "data": {
            "text/plain": [
              "  productCode                            productName  productLine  \\\n",
              "0    S10_1678  1969 Harley Davidson Ultimate Chopper  Motorcycles   \n",
              "\n",
              "  productScale    productVendor  \\\n",
              "0         1:10  Min Lin Diecast   \n",
              "\n",
              "                                  productDescription quantityInStock buyPrice  \\\n",
              "0  This replica features working kickstand, front...            7933    48.81   \n",
              "\n",
              "    MSRP  \n",
              "0  95.70  "
            ],
            "text/html": [
              "\n",
              "  <div id=\"df-8a02fe01-de46-4b2a-9d0c-84a6b8ae51f0\" class=\"colab-df-container\">\n",
              "    <div>\n",
              "<style scoped>\n",
              "    .dataframe tbody tr th:only-of-type {\n",
              "        vertical-align: middle;\n",
              "    }\n",
              "\n",
              "    .dataframe tbody tr th {\n",
              "        vertical-align: top;\n",
              "    }\n",
              "\n",
              "    .dataframe thead th {\n",
              "        text-align: right;\n",
              "    }\n",
              "</style>\n",
              "<table border=\"1\" class=\"dataframe\">\n",
              "  <thead>\n",
              "    <tr style=\"text-align: right;\">\n",
              "      <th></th>\n",
              "      <th>productCode</th>\n",
              "      <th>productName</th>\n",
              "      <th>productLine</th>\n",
              "      <th>productScale</th>\n",
              "      <th>productVendor</th>\n",
              "      <th>productDescription</th>\n",
              "      <th>quantityInStock</th>\n",
              "      <th>buyPrice</th>\n",
              "      <th>MSRP</th>\n",
              "    </tr>\n",
              "  </thead>\n",
              "  <tbody>\n",
              "    <tr>\n",
              "      <th>0</th>\n",
              "      <td>S10_1678</td>\n",
              "      <td>1969 Harley Davidson Ultimate Chopper</td>\n",
              "      <td>Motorcycles</td>\n",
              "      <td>1:10</td>\n",
              "      <td>Min Lin Diecast</td>\n",
              "      <td>This replica features working kickstand, front...</td>\n",
              "      <td>7933</td>\n",
              "      <td>48.81</td>\n",
              "      <td>95.70</td>\n",
              "    </tr>\n",
              "  </tbody>\n",
              "</table>\n",
              "</div>\n",
              "    <div class=\"colab-df-buttons\">\n",
              "\n",
              "  <div class=\"colab-df-container\">\n",
              "    <button class=\"colab-df-convert\" onclick=\"convertToInteractive('df-8a02fe01-de46-4b2a-9d0c-84a6b8ae51f0')\"\n",
              "            title=\"Convert this dataframe to an interactive table.\"\n",
              "            style=\"display:none;\">\n",
              "\n",
              "  <svg xmlns=\"http://www.w3.org/2000/svg\" height=\"24px\" viewBox=\"0 -960 960 960\">\n",
              "    <path d=\"M120-120v-720h720v720H120Zm60-500h600v-160H180v160Zm220 220h160v-160H400v160Zm0 220h160v-160H400v160ZM180-400h160v-160H180v160Zm440 0h160v-160H620v160ZM180-180h160v-160H180v160Zm440 0h160v-160H620v160Z\"/>\n",
              "  </svg>\n",
              "    </button>\n",
              "\n",
              "  <style>\n",
              "    .colab-df-container {\n",
              "      display:flex;\n",
              "      gap: 12px;\n",
              "    }\n",
              "\n",
              "    .colab-df-convert {\n",
              "      background-color: #E8F0FE;\n",
              "      border: none;\n",
              "      border-radius: 50%;\n",
              "      cursor: pointer;\n",
              "      display: none;\n",
              "      fill: #1967D2;\n",
              "      height: 32px;\n",
              "      padding: 0 0 0 0;\n",
              "      width: 32px;\n",
              "    }\n",
              "\n",
              "    .colab-df-convert:hover {\n",
              "      background-color: #E2EBFA;\n",
              "      box-shadow: 0px 1px 2px rgba(60, 64, 67, 0.3), 0px 1px 3px 1px rgba(60, 64, 67, 0.15);\n",
              "      fill: #174EA6;\n",
              "    }\n",
              "\n",
              "    .colab-df-buttons div {\n",
              "      margin-bottom: 4px;\n",
              "    }\n",
              "\n",
              "    [theme=dark] .colab-df-convert {\n",
              "      background-color: #3B4455;\n",
              "      fill: #D2E3FC;\n",
              "    }\n",
              "\n",
              "    [theme=dark] .colab-df-convert:hover {\n",
              "      background-color: #434B5C;\n",
              "      box-shadow: 0px 1px 3px 1px rgba(0, 0, 0, 0.15);\n",
              "      filter: drop-shadow(0px 1px 2px rgba(0, 0, 0, 0.3));\n",
              "      fill: #FFFFFF;\n",
              "    }\n",
              "  </style>\n",
              "\n",
              "    <script>\n",
              "      const buttonEl =\n",
              "        document.querySelector('#df-8a02fe01-de46-4b2a-9d0c-84a6b8ae51f0 button.colab-df-convert');\n",
              "      buttonEl.style.display =\n",
              "        google.colab.kernel.accessAllowed ? 'block' : 'none';\n",
              "\n",
              "      async function convertToInteractive(key) {\n",
              "        const element = document.querySelector('#df-8a02fe01-de46-4b2a-9d0c-84a6b8ae51f0');\n",
              "        const dataTable =\n",
              "          await google.colab.kernel.invokeFunction('convertToInteractive',\n",
              "                                                    [key], {});\n",
              "        if (!dataTable) return;\n",
              "\n",
              "        const docLinkHtml = 'Like what you see? Visit the ' +\n",
              "          '<a target=\"_blank\" href=https://colab.research.google.com/notebooks/data_table.ipynb>data table notebook</a>'\n",
              "          + ' to learn more about interactive tables.';\n",
              "        element.innerHTML = '';\n",
              "        dataTable['output_type'] = 'display_data';\n",
              "        await google.colab.output.renderOutput(dataTable, element);\n",
              "        const docLink = document.createElement('div');\n",
              "        docLink.innerHTML = docLinkHtml;\n",
              "        element.appendChild(docLink);\n",
              "      }\n",
              "    </script>\n",
              "  </div>\n",
              "\n",
              "\n",
              "    </div>\n",
              "  </div>\n"
            ],
            "application/vnd.google.colaboratory.intrinsic+json": {
              "type": "dataframe",
              "summary": "{\n  \"name\": \"pd\",\n  \"rows\": 1,\n  \"fields\": [\n    {\n      \"column\": \"productCode\",\n      \"properties\": {\n        \"dtype\": \"string\",\n        \"num_unique_values\": 1,\n        \"samples\": [\n          \"S10_1678\"\n        ],\n        \"semantic_type\": \"\",\n        \"description\": \"\"\n      }\n    },\n    {\n      \"column\": \"productName\",\n      \"properties\": {\n        \"dtype\": \"string\",\n        \"num_unique_values\": 1,\n        \"samples\": [\n          \"1969 Harley Davidson Ultimate Chopper\"\n        ],\n        \"semantic_type\": \"\",\n        \"description\": \"\"\n      }\n    },\n    {\n      \"column\": \"productLine\",\n      \"properties\": {\n        \"dtype\": \"string\",\n        \"num_unique_values\": 1,\n        \"samples\": [\n          \"Motorcycles\"\n        ],\n        \"semantic_type\": \"\",\n        \"description\": \"\"\n      }\n    },\n    {\n      \"column\": \"productScale\",\n      \"properties\": {\n        \"dtype\": \"object\",\n        \"num_unique_values\": 1,\n        \"samples\": [\n          \"1:10\"\n        ],\n        \"semantic_type\": \"\",\n        \"description\": \"\"\n      }\n    },\n    {\n      \"column\": \"productVendor\",\n      \"properties\": {\n        \"dtype\": \"string\",\n        \"num_unique_values\": 1,\n        \"samples\": [\n          \"Min Lin Diecast\"\n        ],\n        \"semantic_type\": \"\",\n        \"description\": \"\"\n      }\n    },\n    {\n      \"column\": \"productDescription\",\n      \"properties\": {\n        \"dtype\": \"string\",\n        \"num_unique_values\": 1,\n        \"samples\": [\n          \"This replica features working kickstand, front suspension, gear-shift lever, footbrake lever, drive chain, wheels and steering. All parts are particularly delicate due to their precise scale and require special care and attention.\"\n        ],\n        \"semantic_type\": \"\",\n        \"description\": \"\"\n      }\n    },\n    {\n      \"column\": \"quantityInStock\",\n      \"properties\": {\n        \"dtype\": \"string\",\n        \"num_unique_values\": 1,\n        \"samples\": [\n          \"7933\"\n        ],\n        \"semantic_type\": \"\",\n        \"description\": \"\"\n      }\n    },\n    {\n      \"column\": \"buyPrice\",\n      \"properties\": {\n        \"dtype\": \"string\",\n        \"num_unique_values\": 1,\n        \"samples\": [\n          \"48.81\"\n        ],\n        \"semantic_type\": \"\",\n        \"description\": \"\"\n      }\n    },\n    {\n      \"column\": \"MSRP\",\n      \"properties\": {\n        \"dtype\": \"string\",\n        \"num_unique_values\": 1,\n        \"samples\": [\n          \"95.70\"\n        ],\n        \"semantic_type\": \"\",\n        \"description\": \"\"\n      }\n    }\n  ]\n}"
            }
          },
          "metadata": {},
          "execution_count": 31
        }
      ]
    },
    {
      "cell_type": "code",
      "source": [
        "# Preview top 5 orders\n",
        "pd.read_sql(\"SELECT * FROM orders LIMIT 5\", conn)\n",
        "\n",
        "# Preview customer names and cities\n",
        "pd.read_sql(\"SELECT customerName, city FROM customers LIMIT 10\", conn)\n"
      ],
      "metadata": {
        "colab": {
          "base_uri": "https://localhost:8080/",
          "height": 363
        },
        "id": "7zhW7NHegLJH",
        "outputId": "1e9dbdde-fffe-46fc-9f7a-b2bffdda551d"
      },
      "execution_count": null,
      "outputs": [
        {
          "output_type": "execute_result",
          "data": {
            "text/plain": [
              "                   customerName           city\n",
              "0             Atelier graphique         Nantes\n",
              "1            Signal Gift Stores      Las Vegas\n",
              "2    Australian Collectors, Co.      Melbourne\n",
              "3             La Rochelle Gifts         Nantes\n",
              "4            Baane Mini Imports        Stavern\n",
              "5  Mini Gifts Distributors Ltd.     San Rafael\n",
              "6          Blauer See Auto, Co.      Frankfurt\n",
              "7               Mini Wheels Co.  San Francisco\n",
              "8             Land of Toys Inc.            NYC\n",
              "9      Volvo Model Replicas, Co          Luleå"
            ],
            "text/html": [
              "\n",
              "  <div id=\"df-bc8135be-f12a-4519-8cf8-ec332490bf2c\" class=\"colab-df-container\">\n",
              "    <div>\n",
              "<style scoped>\n",
              "    .dataframe tbody tr th:only-of-type {\n",
              "        vertical-align: middle;\n",
              "    }\n",
              "\n",
              "    .dataframe tbody tr th {\n",
              "        vertical-align: top;\n",
              "    }\n",
              "\n",
              "    .dataframe thead th {\n",
              "        text-align: right;\n",
              "    }\n",
              "</style>\n",
              "<table border=\"1\" class=\"dataframe\">\n",
              "  <thead>\n",
              "    <tr style=\"text-align: right;\">\n",
              "      <th></th>\n",
              "      <th>customerName</th>\n",
              "      <th>city</th>\n",
              "    </tr>\n",
              "  </thead>\n",
              "  <tbody>\n",
              "    <tr>\n",
              "      <th>0</th>\n",
              "      <td>Atelier graphique</td>\n",
              "      <td>Nantes</td>\n",
              "    </tr>\n",
              "    <tr>\n",
              "      <th>1</th>\n",
              "      <td>Signal Gift Stores</td>\n",
              "      <td>Las Vegas</td>\n",
              "    </tr>\n",
              "    <tr>\n",
              "      <th>2</th>\n",
              "      <td>Australian Collectors, Co.</td>\n",
              "      <td>Melbourne</td>\n",
              "    </tr>\n",
              "    <tr>\n",
              "      <th>3</th>\n",
              "      <td>La Rochelle Gifts</td>\n",
              "      <td>Nantes</td>\n",
              "    </tr>\n",
              "    <tr>\n",
              "      <th>4</th>\n",
              "      <td>Baane Mini Imports</td>\n",
              "      <td>Stavern</td>\n",
              "    </tr>\n",
              "    <tr>\n",
              "      <th>5</th>\n",
              "      <td>Mini Gifts Distributors Ltd.</td>\n",
              "      <td>San Rafael</td>\n",
              "    </tr>\n",
              "    <tr>\n",
              "      <th>6</th>\n",
              "      <td>Blauer See Auto, Co.</td>\n",
              "      <td>Frankfurt</td>\n",
              "    </tr>\n",
              "    <tr>\n",
              "      <th>7</th>\n",
              "      <td>Mini Wheels Co.</td>\n",
              "      <td>San Francisco</td>\n",
              "    </tr>\n",
              "    <tr>\n",
              "      <th>8</th>\n",
              "      <td>Land of Toys Inc.</td>\n",
              "      <td>NYC</td>\n",
              "    </tr>\n",
              "    <tr>\n",
              "      <th>9</th>\n",
              "      <td>Volvo Model Replicas, Co</td>\n",
              "      <td>Luleå</td>\n",
              "    </tr>\n",
              "  </tbody>\n",
              "</table>\n",
              "</div>\n",
              "    <div class=\"colab-df-buttons\">\n",
              "\n",
              "  <div class=\"colab-df-container\">\n",
              "    <button class=\"colab-df-convert\" onclick=\"convertToInteractive('df-bc8135be-f12a-4519-8cf8-ec332490bf2c')\"\n",
              "            title=\"Convert this dataframe to an interactive table.\"\n",
              "            style=\"display:none;\">\n",
              "\n",
              "  <svg xmlns=\"http://www.w3.org/2000/svg\" height=\"24px\" viewBox=\"0 -960 960 960\">\n",
              "    <path d=\"M120-120v-720h720v720H120Zm60-500h600v-160H180v160Zm220 220h160v-160H400v160Zm0 220h160v-160H400v160ZM180-400h160v-160H180v160Zm440 0h160v-160H620v160ZM180-180h160v-160H180v160Zm440 0h160v-160H620v160Z\"/>\n",
              "  </svg>\n",
              "    </button>\n",
              "\n",
              "  <style>\n",
              "    .colab-df-container {\n",
              "      display:flex;\n",
              "      gap: 12px;\n",
              "    }\n",
              "\n",
              "    .colab-df-convert {\n",
              "      background-color: #E8F0FE;\n",
              "      border: none;\n",
              "      border-radius: 50%;\n",
              "      cursor: pointer;\n",
              "      display: none;\n",
              "      fill: #1967D2;\n",
              "      height: 32px;\n",
              "      padding: 0 0 0 0;\n",
              "      width: 32px;\n",
              "    }\n",
              "\n",
              "    .colab-df-convert:hover {\n",
              "      background-color: #E2EBFA;\n",
              "      box-shadow: 0px 1px 2px rgba(60, 64, 67, 0.3), 0px 1px 3px 1px rgba(60, 64, 67, 0.15);\n",
              "      fill: #174EA6;\n",
              "    }\n",
              "\n",
              "    .colab-df-buttons div {\n",
              "      margin-bottom: 4px;\n",
              "    }\n",
              "\n",
              "    [theme=dark] .colab-df-convert {\n",
              "      background-color: #3B4455;\n",
              "      fill: #D2E3FC;\n",
              "    }\n",
              "\n",
              "    [theme=dark] .colab-df-convert:hover {\n",
              "      background-color: #434B5C;\n",
              "      box-shadow: 0px 1px 3px 1px rgba(0, 0, 0, 0.15);\n",
              "      filter: drop-shadow(0px 1px 2px rgba(0, 0, 0, 0.3));\n",
              "      fill: #FFFFFF;\n",
              "    }\n",
              "  </style>\n",
              "\n",
              "    <script>\n",
              "      const buttonEl =\n",
              "        document.querySelector('#df-bc8135be-f12a-4519-8cf8-ec332490bf2c button.colab-df-convert');\n",
              "      buttonEl.style.display =\n",
              "        google.colab.kernel.accessAllowed ? 'block' : 'none';\n",
              "\n",
              "      async function convertToInteractive(key) {\n",
              "        const element = document.querySelector('#df-bc8135be-f12a-4519-8cf8-ec332490bf2c');\n",
              "        const dataTable =\n",
              "          await google.colab.kernel.invokeFunction('convertToInteractive',\n",
              "                                                    [key], {});\n",
              "        if (!dataTable) return;\n",
              "\n",
              "        const docLinkHtml = 'Like what you see? Visit the ' +\n",
              "          '<a target=\"_blank\" href=https://colab.research.google.com/notebooks/data_table.ipynb>data table notebook</a>'\n",
              "          + ' to learn more about interactive tables.';\n",
              "        element.innerHTML = '';\n",
              "        dataTable['output_type'] = 'display_data';\n",
              "        await google.colab.output.renderOutput(dataTable, element);\n",
              "        const docLink = document.createElement('div');\n",
              "        docLink.innerHTML = docLinkHtml;\n",
              "        element.appendChild(docLink);\n",
              "      }\n",
              "    </script>\n",
              "  </div>\n",
              "\n",
              "\n",
              "    <div id=\"df-75a4054c-7538-494c-8a83-a20042ba7dfb\">\n",
              "      <button class=\"colab-df-quickchart\" onclick=\"quickchart('df-75a4054c-7538-494c-8a83-a20042ba7dfb')\"\n",
              "                title=\"Suggest charts\"\n",
              "                style=\"display:none;\">\n",
              "\n",
              "<svg xmlns=\"http://www.w3.org/2000/svg\" height=\"24px\"viewBox=\"0 0 24 24\"\n",
              "     width=\"24px\">\n",
              "    <g>\n",
              "        <path d=\"M19 3H5c-1.1 0-2 .9-2 2v14c0 1.1.9 2 2 2h14c1.1 0 2-.9 2-2V5c0-1.1-.9-2-2-2zM9 17H7v-7h2v7zm4 0h-2V7h2v10zm4 0h-2v-4h2v4z\"/>\n",
              "    </g>\n",
              "</svg>\n",
              "      </button>\n",
              "\n",
              "<style>\n",
              "  .colab-df-quickchart {\n",
              "      --bg-color: #E8F0FE;\n",
              "      --fill-color: #1967D2;\n",
              "      --hover-bg-color: #E2EBFA;\n",
              "      --hover-fill-color: #174EA6;\n",
              "      --disabled-fill-color: #AAA;\n",
              "      --disabled-bg-color: #DDD;\n",
              "  }\n",
              "\n",
              "  [theme=dark] .colab-df-quickchart {\n",
              "      --bg-color: #3B4455;\n",
              "      --fill-color: #D2E3FC;\n",
              "      --hover-bg-color: #434B5C;\n",
              "      --hover-fill-color: #FFFFFF;\n",
              "      --disabled-bg-color: #3B4455;\n",
              "      --disabled-fill-color: #666;\n",
              "  }\n",
              "\n",
              "  .colab-df-quickchart {\n",
              "    background-color: var(--bg-color);\n",
              "    border: none;\n",
              "    border-radius: 50%;\n",
              "    cursor: pointer;\n",
              "    display: none;\n",
              "    fill: var(--fill-color);\n",
              "    height: 32px;\n",
              "    padding: 0;\n",
              "    width: 32px;\n",
              "  }\n",
              "\n",
              "  .colab-df-quickchart:hover {\n",
              "    background-color: var(--hover-bg-color);\n",
              "    box-shadow: 0 1px 2px rgba(60, 64, 67, 0.3), 0 1px 3px 1px rgba(60, 64, 67, 0.15);\n",
              "    fill: var(--button-hover-fill-color);\n",
              "  }\n",
              "\n",
              "  .colab-df-quickchart-complete:disabled,\n",
              "  .colab-df-quickchart-complete:disabled:hover {\n",
              "    background-color: var(--disabled-bg-color);\n",
              "    fill: var(--disabled-fill-color);\n",
              "    box-shadow: none;\n",
              "  }\n",
              "\n",
              "  .colab-df-spinner {\n",
              "    border: 2px solid var(--fill-color);\n",
              "    border-color: transparent;\n",
              "    border-bottom-color: var(--fill-color);\n",
              "    animation:\n",
              "      spin 1s steps(1) infinite;\n",
              "  }\n",
              "\n",
              "  @keyframes spin {\n",
              "    0% {\n",
              "      border-color: transparent;\n",
              "      border-bottom-color: var(--fill-color);\n",
              "      border-left-color: var(--fill-color);\n",
              "    }\n",
              "    20% {\n",
              "      border-color: transparent;\n",
              "      border-left-color: var(--fill-color);\n",
              "      border-top-color: var(--fill-color);\n",
              "    }\n",
              "    30% {\n",
              "      border-color: transparent;\n",
              "      border-left-color: var(--fill-color);\n",
              "      border-top-color: var(--fill-color);\n",
              "      border-right-color: var(--fill-color);\n",
              "    }\n",
              "    40% {\n",
              "      border-color: transparent;\n",
              "      border-right-color: var(--fill-color);\n",
              "      border-top-color: var(--fill-color);\n",
              "    }\n",
              "    60% {\n",
              "      border-color: transparent;\n",
              "      border-right-color: var(--fill-color);\n",
              "    }\n",
              "    80% {\n",
              "      border-color: transparent;\n",
              "      border-right-color: var(--fill-color);\n",
              "      border-bottom-color: var(--fill-color);\n",
              "    }\n",
              "    90% {\n",
              "      border-color: transparent;\n",
              "      border-bottom-color: var(--fill-color);\n",
              "    }\n",
              "  }\n",
              "</style>\n",
              "\n",
              "      <script>\n",
              "        async function quickchart(key) {\n",
              "          const quickchartButtonEl =\n",
              "            document.querySelector('#' + key + ' button');\n",
              "          quickchartButtonEl.disabled = true;  // To prevent multiple clicks.\n",
              "          quickchartButtonEl.classList.add('colab-df-spinner');\n",
              "          try {\n",
              "            const charts = await google.colab.kernel.invokeFunction(\n",
              "                'suggestCharts', [key], {});\n",
              "          } catch (error) {\n",
              "            console.error('Error during call to suggestCharts:', error);\n",
              "          }\n",
              "          quickchartButtonEl.classList.remove('colab-df-spinner');\n",
              "          quickchartButtonEl.classList.add('colab-df-quickchart-complete');\n",
              "        }\n",
              "        (() => {\n",
              "          let quickchartButtonEl =\n",
              "            document.querySelector('#df-75a4054c-7538-494c-8a83-a20042ba7dfb button');\n",
              "          quickchartButtonEl.style.display =\n",
              "            google.colab.kernel.accessAllowed ? 'block' : 'none';\n",
              "        })();\n",
              "      </script>\n",
              "    </div>\n",
              "\n",
              "    </div>\n",
              "  </div>\n"
            ],
            "application/vnd.google.colaboratory.intrinsic+json": {
              "type": "dataframe",
              "summary": "{\n  \"name\": \"pd\",\n  \"rows\": 10,\n  \"fields\": [\n    {\n      \"column\": \"customerName\",\n      \"properties\": {\n        \"dtype\": \"string\",\n        \"num_unique_values\": 10,\n        \"samples\": [\n          \"Land of Toys Inc.\",\n          \"Signal Gift Stores\",\n          \"Mini Gifts Distributors Ltd.\"\n        ],\n        \"semantic_type\": \"\",\n        \"description\": \"\"\n      }\n    },\n    {\n      \"column\": \"city\",\n      \"properties\": {\n        \"dtype\": \"string\",\n        \"num_unique_values\": 9,\n        \"samples\": [\n          \"NYC\",\n          \"Las Vegas\",\n          \"Frankfurt\"\n        ],\n        \"semantic_type\": \"\",\n        \"description\": \"\"\n      }\n    }\n  ]\n}"
            }
          },
          "metadata": {},
          "execution_count": 32
        }
      ]
    },
    {
      "cell_type": "code",
      "source": [
        "# Total customers per country\n",
        "pd.read_sql(\"SELECT country, COUNT(*) as num_customers FROM customers GROUP BY country\", conn)\n",
        "\n",
        "# Top 5 selling products\n",
        "pd.read_sql(\"\"\"\n",
        "SELECT productCode, SUM(quantityOrdered) AS total_sold\n",
        "FROM orderdetails\n",
        "GROUP BY productCode\n",
        "ORDER BY total_sold DESC\n",
        "LIMIT 5\n",
        "\"\"\", conn)\n"
      ],
      "metadata": {
        "colab": {
          "base_uri": "https://localhost:8080/",
          "height": 206
        },
        "id": "cO66zLpFiGub",
        "outputId": "f987c1a4-5bb7-4d6c-d656-566ad7b8d95b"
      },
      "execution_count": null,
      "outputs": [
        {
          "output_type": "execute_result",
          "data": {
            "text/plain": [
              "  productCode  total_sold\n",
              "0    S18_3232        1808\n",
              "1    S18_1342        1111\n",
              "2   S700_4002        1085\n",
              "3    S18_3856        1076\n",
              "4    S50_1341        1074"
            ],
            "text/html": [
              "\n",
              "  <div id=\"df-3f457375-96a4-4a8e-a349-a167ac629de5\" class=\"colab-df-container\">\n",
              "    <div>\n",
              "<style scoped>\n",
              "    .dataframe tbody tr th:only-of-type {\n",
              "        vertical-align: middle;\n",
              "    }\n",
              "\n",
              "    .dataframe tbody tr th {\n",
              "        vertical-align: top;\n",
              "    }\n",
              "\n",
              "    .dataframe thead th {\n",
              "        text-align: right;\n",
              "    }\n",
              "</style>\n",
              "<table border=\"1\" class=\"dataframe\">\n",
              "  <thead>\n",
              "    <tr style=\"text-align: right;\">\n",
              "      <th></th>\n",
              "      <th>productCode</th>\n",
              "      <th>total_sold</th>\n",
              "    </tr>\n",
              "  </thead>\n",
              "  <tbody>\n",
              "    <tr>\n",
              "      <th>0</th>\n",
              "      <td>S18_3232</td>\n",
              "      <td>1808</td>\n",
              "    </tr>\n",
              "    <tr>\n",
              "      <th>1</th>\n",
              "      <td>S18_1342</td>\n",
              "      <td>1111</td>\n",
              "    </tr>\n",
              "    <tr>\n",
              "      <th>2</th>\n",
              "      <td>S700_4002</td>\n",
              "      <td>1085</td>\n",
              "    </tr>\n",
              "    <tr>\n",
              "      <th>3</th>\n",
              "      <td>S18_3856</td>\n",
              "      <td>1076</td>\n",
              "    </tr>\n",
              "    <tr>\n",
              "      <th>4</th>\n",
              "      <td>S50_1341</td>\n",
              "      <td>1074</td>\n",
              "    </tr>\n",
              "  </tbody>\n",
              "</table>\n",
              "</div>\n",
              "    <div class=\"colab-df-buttons\">\n",
              "\n",
              "  <div class=\"colab-df-container\">\n",
              "    <button class=\"colab-df-convert\" onclick=\"convertToInteractive('df-3f457375-96a4-4a8e-a349-a167ac629de5')\"\n",
              "            title=\"Convert this dataframe to an interactive table.\"\n",
              "            style=\"display:none;\">\n",
              "\n",
              "  <svg xmlns=\"http://www.w3.org/2000/svg\" height=\"24px\" viewBox=\"0 -960 960 960\">\n",
              "    <path d=\"M120-120v-720h720v720H120Zm60-500h600v-160H180v160Zm220 220h160v-160H400v160Zm0 220h160v-160H400v160ZM180-400h160v-160H180v160Zm440 0h160v-160H620v160ZM180-180h160v-160H180v160Zm440 0h160v-160H620v160Z\"/>\n",
              "  </svg>\n",
              "    </button>\n",
              "\n",
              "  <style>\n",
              "    .colab-df-container {\n",
              "      display:flex;\n",
              "      gap: 12px;\n",
              "    }\n",
              "\n",
              "    .colab-df-convert {\n",
              "      background-color: #E8F0FE;\n",
              "      border: none;\n",
              "      border-radius: 50%;\n",
              "      cursor: pointer;\n",
              "      display: none;\n",
              "      fill: #1967D2;\n",
              "      height: 32px;\n",
              "      padding: 0 0 0 0;\n",
              "      width: 32px;\n",
              "    }\n",
              "\n",
              "    .colab-df-convert:hover {\n",
              "      background-color: #E2EBFA;\n",
              "      box-shadow: 0px 1px 2px rgba(60, 64, 67, 0.3), 0px 1px 3px 1px rgba(60, 64, 67, 0.15);\n",
              "      fill: #174EA6;\n",
              "    }\n",
              "\n",
              "    .colab-df-buttons div {\n",
              "      margin-bottom: 4px;\n",
              "    }\n",
              "\n",
              "    [theme=dark] .colab-df-convert {\n",
              "      background-color: #3B4455;\n",
              "      fill: #D2E3FC;\n",
              "    }\n",
              "\n",
              "    [theme=dark] .colab-df-convert:hover {\n",
              "      background-color: #434B5C;\n",
              "      box-shadow: 0px 1px 3px 1px rgba(0, 0, 0, 0.15);\n",
              "      filter: drop-shadow(0px 1px 2px rgba(0, 0, 0, 0.3));\n",
              "      fill: #FFFFFF;\n",
              "    }\n",
              "  </style>\n",
              "\n",
              "    <script>\n",
              "      const buttonEl =\n",
              "        document.querySelector('#df-3f457375-96a4-4a8e-a349-a167ac629de5 button.colab-df-convert');\n",
              "      buttonEl.style.display =\n",
              "        google.colab.kernel.accessAllowed ? 'block' : 'none';\n",
              "\n",
              "      async function convertToInteractive(key) {\n",
              "        const element = document.querySelector('#df-3f457375-96a4-4a8e-a349-a167ac629de5');\n",
              "        const dataTable =\n",
              "          await google.colab.kernel.invokeFunction('convertToInteractive',\n",
              "                                                    [key], {});\n",
              "        if (!dataTable) return;\n",
              "\n",
              "        const docLinkHtml = 'Like what you see? Visit the ' +\n",
              "          '<a target=\"_blank\" href=https://colab.research.google.com/notebooks/data_table.ipynb>data table notebook</a>'\n",
              "          + ' to learn more about interactive tables.';\n",
              "        element.innerHTML = '';\n",
              "        dataTable['output_type'] = 'display_data';\n",
              "        await google.colab.output.renderOutput(dataTable, element);\n",
              "        const docLink = document.createElement('div');\n",
              "        docLink.innerHTML = docLinkHtml;\n",
              "        element.appendChild(docLink);\n",
              "      }\n",
              "    </script>\n",
              "  </div>\n",
              "\n",
              "\n",
              "    <div id=\"df-82aebb0c-0e68-4a3e-8e0f-5f333eb88cf5\">\n",
              "      <button class=\"colab-df-quickchart\" onclick=\"quickchart('df-82aebb0c-0e68-4a3e-8e0f-5f333eb88cf5')\"\n",
              "                title=\"Suggest charts\"\n",
              "                style=\"display:none;\">\n",
              "\n",
              "<svg xmlns=\"http://www.w3.org/2000/svg\" height=\"24px\"viewBox=\"0 0 24 24\"\n",
              "     width=\"24px\">\n",
              "    <g>\n",
              "        <path d=\"M19 3H5c-1.1 0-2 .9-2 2v14c0 1.1.9 2 2 2h14c1.1 0 2-.9 2-2V5c0-1.1-.9-2-2-2zM9 17H7v-7h2v7zm4 0h-2V7h2v10zm4 0h-2v-4h2v4z\"/>\n",
              "    </g>\n",
              "</svg>\n",
              "      </button>\n",
              "\n",
              "<style>\n",
              "  .colab-df-quickchart {\n",
              "      --bg-color: #E8F0FE;\n",
              "      --fill-color: #1967D2;\n",
              "      --hover-bg-color: #E2EBFA;\n",
              "      --hover-fill-color: #174EA6;\n",
              "      --disabled-fill-color: #AAA;\n",
              "      --disabled-bg-color: #DDD;\n",
              "  }\n",
              "\n",
              "  [theme=dark] .colab-df-quickchart {\n",
              "      --bg-color: #3B4455;\n",
              "      --fill-color: #D2E3FC;\n",
              "      --hover-bg-color: #434B5C;\n",
              "      --hover-fill-color: #FFFFFF;\n",
              "      --disabled-bg-color: #3B4455;\n",
              "      --disabled-fill-color: #666;\n",
              "  }\n",
              "\n",
              "  .colab-df-quickchart {\n",
              "    background-color: var(--bg-color);\n",
              "    border: none;\n",
              "    border-radius: 50%;\n",
              "    cursor: pointer;\n",
              "    display: none;\n",
              "    fill: var(--fill-color);\n",
              "    height: 32px;\n",
              "    padding: 0;\n",
              "    width: 32px;\n",
              "  }\n",
              "\n",
              "  .colab-df-quickchart:hover {\n",
              "    background-color: var(--hover-bg-color);\n",
              "    box-shadow: 0 1px 2px rgba(60, 64, 67, 0.3), 0 1px 3px 1px rgba(60, 64, 67, 0.15);\n",
              "    fill: var(--button-hover-fill-color);\n",
              "  }\n",
              "\n",
              "  .colab-df-quickchart-complete:disabled,\n",
              "  .colab-df-quickchart-complete:disabled:hover {\n",
              "    background-color: var(--disabled-bg-color);\n",
              "    fill: var(--disabled-fill-color);\n",
              "    box-shadow: none;\n",
              "  }\n",
              "\n",
              "  .colab-df-spinner {\n",
              "    border: 2px solid var(--fill-color);\n",
              "    border-color: transparent;\n",
              "    border-bottom-color: var(--fill-color);\n",
              "    animation:\n",
              "      spin 1s steps(1) infinite;\n",
              "  }\n",
              "\n",
              "  @keyframes spin {\n",
              "    0% {\n",
              "      border-color: transparent;\n",
              "      border-bottom-color: var(--fill-color);\n",
              "      border-left-color: var(--fill-color);\n",
              "    }\n",
              "    20% {\n",
              "      border-color: transparent;\n",
              "      border-left-color: var(--fill-color);\n",
              "      border-top-color: var(--fill-color);\n",
              "    }\n",
              "    30% {\n",
              "      border-color: transparent;\n",
              "      border-left-color: var(--fill-color);\n",
              "      border-top-color: var(--fill-color);\n",
              "      border-right-color: var(--fill-color);\n",
              "    }\n",
              "    40% {\n",
              "      border-color: transparent;\n",
              "      border-right-color: var(--fill-color);\n",
              "      border-top-color: var(--fill-color);\n",
              "    }\n",
              "    60% {\n",
              "      border-color: transparent;\n",
              "      border-right-color: var(--fill-color);\n",
              "    }\n",
              "    80% {\n",
              "      border-color: transparent;\n",
              "      border-right-color: var(--fill-color);\n",
              "      border-bottom-color: var(--fill-color);\n",
              "    }\n",
              "    90% {\n",
              "      border-color: transparent;\n",
              "      border-bottom-color: var(--fill-color);\n",
              "    }\n",
              "  }\n",
              "</style>\n",
              "\n",
              "      <script>\n",
              "        async function quickchart(key) {\n",
              "          const quickchartButtonEl =\n",
              "            document.querySelector('#' + key + ' button');\n",
              "          quickchartButtonEl.disabled = true;  // To prevent multiple clicks.\n",
              "          quickchartButtonEl.classList.add('colab-df-spinner');\n",
              "          try {\n",
              "            const charts = await google.colab.kernel.invokeFunction(\n",
              "                'suggestCharts', [key], {});\n",
              "          } catch (error) {\n",
              "            console.error('Error during call to suggestCharts:', error);\n",
              "          }\n",
              "          quickchartButtonEl.classList.remove('colab-df-spinner');\n",
              "          quickchartButtonEl.classList.add('colab-df-quickchart-complete');\n",
              "        }\n",
              "        (() => {\n",
              "          let quickchartButtonEl =\n",
              "            document.querySelector('#df-82aebb0c-0e68-4a3e-8e0f-5f333eb88cf5 button');\n",
              "          quickchartButtonEl.style.display =\n",
              "            google.colab.kernel.accessAllowed ? 'block' : 'none';\n",
              "        })();\n",
              "      </script>\n",
              "    </div>\n",
              "\n",
              "    </div>\n",
              "  </div>\n"
            ],
            "application/vnd.google.colaboratory.intrinsic+json": {
              "type": "dataframe",
              "summary": "{\n  \"name\": \"\\\"\\\"\\\", conn)\",\n  \"rows\": 5,\n  \"fields\": [\n    {\n      \"column\": \"productCode\",\n      \"properties\": {\n        \"dtype\": \"string\",\n        \"num_unique_values\": 5,\n        \"samples\": [\n          \"S18_1342\",\n          \"S50_1341\",\n          \"S700_4002\"\n        ],\n        \"semantic_type\": \"\",\n        \"description\": \"\"\n      }\n    },\n    {\n      \"column\": \"total_sold\",\n      \"properties\": {\n        \"dtype\": \"number\",\n        \"std\": 323,\n        \"min\": 1074,\n        \"max\": 1808,\n        \"num_unique_values\": 5,\n        \"samples\": [\n          1111,\n          1074,\n          1085\n        ],\n        \"semantic_type\": \"\",\n        \"description\": \"\"\n      }\n    }\n  ]\n}"
            }
          },
          "metadata": {},
          "execution_count": 33
        }
      ]
    },
    {
      "cell_type": "code",
      "source": [
        "conn = sqlite3.connect('/content/drive/My Drive/classicmodels.db')\n",
        "print(\"✅ SQLite DB saved to your Drive!\")\n"
      ],
      "metadata": {
        "colab": {
          "base_uri": "https://localhost:8080/"
        },
        "id": "Ni65ZN2miG1v",
        "outputId": "5265f42d-2b91-408b-d781-87c395ef4d57"
      },
      "execution_count": null,
      "outputs": [
        {
          "output_type": "stream",
          "name": "stdout",
          "text": [
            "✅ SQLite DB saved to your Drive!\n"
          ]
        }
      ]
    },
    {
      "cell_type": "code",
      "source": [
        "import os\n",
        "from pathlib import Path\n",
        "\n",
        "# 📁 Create a dedicated output folder in your Drive\n",
        "output_folder = \"/content/drive/My Drive/classicmodels_data\"\n",
        "Path(output_folder).mkdir(parents=True, exist_ok=True)\n",
        "\n",
        "# 💾 Save SQLite file too (optional)\n",
        "sqlite_db_path = f\"{output_folder}/classicmodels.db\"\n",
        "conn_file = sqlite3.connect(sqlite_db_path)\n",
        "\n",
        "# 🔁 Process each table\n",
        "for table_name, columns_str, values_block in tqdm(insert_blocks, desc=\"Processing tables\"):\n",
        "\n",
        "    columns = [col.strip() for col in columns_str.split(\",\")]\n",
        "    row_matches = re.findall(r\"\\((.*?)\\)\", values_block)\n",
        "    parsed_rows = []\n",
        "\n",
        "    for row in row_matches:\n",
        "        try:\n",
        "            f = io.StringIO(row)\n",
        "            reader = csv.reader(f, skipinitialspace=True, quotechar=\"'\")\n",
        "            parsed = next(reader)\n",
        "            parsed = [None if val.upper() == 'NULL' else val for val in parsed]\n",
        "\n",
        "            if len(parsed) == len(columns):\n",
        "                parsed_rows.append(parsed)\n",
        "            else:\n",
        "                print(f\"⚠️ Skipped row in `{table_name}`: column mismatch ({len(parsed)} vs {len(columns)})\")\n",
        "\n",
        "        except Exception as e:\n",
        "            print(f\"⚠️ Error parsing row in `{table_name}`: {e}\")\n",
        "            continue\n",
        "\n",
        "    if not parsed_rows:\n",
        "        print(f\"❌ Skipping `{table_name}`: no valid rows.\")\n",
        "        continue\n",
        "\n",
        "    try:\n",
        "        df = pd.DataFrame(parsed_rows, columns=columns)\n",
        "    except Exception as e:\n",
        "        print(f\"❌ DataFrame creation failed for `{table_name}`: {e}\")\n",
        "        continue\n",
        "\n",
        "    # ✅ Save to CSV and JSON in new Drive folder\n",
        "    csv_path = os.path.join(output_folder, f\"{table_name}.csv\")\n",
        "    json_path = os.path.join(output_folder, f\"{table_name}.json\")\n",
        "    df.to_csv(csv_path, index=False)\n",
        "    df.to_json(json_path, orient='records', lines=True)\n",
        "\n",
        "    # ✅ Also save to SQLite file\n",
        "    try:\n",
        "        df.to_sql(table_name, conn_file, if_exists='replace', index=False)\n",
        "    except Exception as e:\n",
        "        print(f\"⚠️ SQLite insert failed for `{table_name}`: {e}\")\n",
        "\n",
        "    print(f\"✅ {table_name}: {len(df)} rows → saved to folder & SQLite\")\n",
        "\n",
        "print(\"🎉 All tables processed and saved to Drive!\")\n",
        "print(f\"📂 Data saved in folder: {output_folder}\")\n",
        "print(f\"🧱 SQLite DB saved at: {sqlite_db_path}\")\n"
      ],
      "metadata": {
        "colab": {
          "base_uri": "https://localhost:8080/"
        },
        "id": "SQ_rKshFiG5J",
        "outputId": "3bf912db-8517-41cf-aae2-bd8f51eff357"
      },
      "execution_count": null,
      "outputs": [
        {
          "output_type": "stream",
          "name": "stderr",
          "text": [
            "Processing tables:  25%|██▌       | 2/8 [00:00<00:00, 19.79it/s]"
          ]
        },
        {
          "output_type": "stream",
          "name": "stdout",
          "text": [
            "⚠️ Skipped row in `productlines`: column mismatch (6 vs 4)\n",
            "✅ productlines: 6 rows → saved to folder & SQLite\n",
            "✅ products: 1 rows → saved to folder & SQLite\n",
            "✅ offices: 7 rows → saved to folder & SQLite\n",
            "✅ employees: 23 rows → saved to folder & SQLite\n",
            "⚠️ Skipped row in `customers`: column mismatch (5 vs 13)\n",
            "⚠️ Skipped row in `customers`: column mismatch (5 vs 13)\n",
            "⚠️ Skipped row in `customers`: column mismatch (5 vs 13)\n",
            "⚠️ Skipped row in `customers`: column mismatch (6 vs 13)\n",
            "⚠️ Skipped row in `customers`: column mismatch (5 vs 13)\n",
            "⚠️ Skipped row in `customers`: column mismatch (5 vs 13)\n",
            "⚠️ Skipped row in `customers`: column mismatch (5 vs 13)\n",
            "⚠️ Skipped row in `customers`: column mismatch (5 vs 13)\n",
            "⚠️ Skipped row in `customers`: column mismatch (5 vs 13)\n",
            "⚠️ Skipped row in `customers`: column mismatch (5 vs 13)\n",
            "⚠️ Skipped row in `customers`: column mismatch (5 vs 13)\n",
            "⚠️ Skipped row in `customers`: column mismatch (5 vs 13)\n",
            "⚠️ Skipped row in `customers`: column mismatch (14 vs 13)\n",
            "⚠️ Skipped row in `customers`: column mismatch (5 vs 13)\n",
            "⚠️ Skipped row in `customers`: column mismatch (5 vs 13)\n",
            "⚠️ Skipped row in `customers`: column mismatch (14 vs 13)\n",
            "⚠️ Skipped row in `customers`: column mismatch (5 vs 13)\n",
            "⚠️ Skipped row in `customers`: column mismatch (5 vs 13)\n",
            "⚠️ Skipped row in `customers`: column mismatch (5 vs 13)\n",
            "⚠️ Skipped row in `customers`: column mismatch (5 vs 13)\n",
            "⚠️ Skipped row in `customers`: column mismatch (5 vs 13)\n",
            "⚠️ Skipped row in `customers`: column mismatch (5 vs 13)\n"
          ]
        },
        {
          "output_type": "stream",
          "name": "stderr",
          "text": [
            "Processing tables: 100%|██████████| 8/8 [00:00<00:00, 19.30it/s]"
          ]
        },
        {
          "output_type": "stream",
          "name": "stdout",
          "text": [
            "✅ customers: 100 rows → saved to folder & SQLite\n",
            "⚠️ Skipped row in `orders`: column mismatch (6 vs 7)\n",
            "✅ orders: 63 rows → saved to folder & SQLite\n",
            "✅ payments: 273 rows → saved to folder & SQLite\n",
            "✅ orderdetails: 2996 rows → saved to folder & SQLite\n",
            "🎉 All tables processed and saved to Drive!\n",
            "📂 Data saved in folder: /content/drive/My Drive/classicmodels_data\n",
            "🧱 SQLite DB saved at: /content/drive/My Drive/classicmodels_data/classicmodels.db\n"
          ]
        },
        {
          "output_type": "stream",
          "name": "stderr",
          "text": [
            "\n"
          ]
        }
      ]
    },
    {
      "cell_type": "code",
      "source": [
        "import os\n",
        "\n",
        "output_folder = \"/content/drive/My Drive/classicmodels_data\"\n",
        "\n",
        "# List files in the folder\n",
        "for file in os.listdir(output_folder):\n",
        "    print(file)\n"
      ],
      "metadata": {
        "colab": {
          "base_uri": "https://localhost:8080/"
        },
        "id": "zjicNKKoiG7k",
        "outputId": "302fdc52-5bb6-4f90-922f-587c10fe97e2"
      },
      "execution_count": null,
      "outputs": [
        {
          "output_type": "stream",
          "name": "stdout",
          "text": [
            "classicmodels.db\n",
            "productlines.csv\n",
            "productlines.json\n",
            "products.csv\n",
            "products.json\n",
            "offices.csv\n",
            "offices.json\n",
            "employees.csv\n",
            "employees.json\n",
            "customers.csv\n",
            "customers.json\n",
            "orders.csv\n",
            "orders.json\n",
            "payments.csv\n",
            "payments.json\n",
            "orderdetails.csv\n",
            "orderdetails.json\n"
          ]
        }
      ]
    },
    {
      "cell_type": "code",
      "source": [
        "files = [os.path.join(output_folder, f) for f in os.listdir(output_folder)]\n",
        "for f in files:\n",
        "    print(f)\n"
      ],
      "metadata": {
        "colab": {
          "base_uri": "https://localhost:8080/"
        },
        "id": "-utiKZQjihBo",
        "outputId": "599720bd-46d7-4d9b-df91-2ee8e3e49987"
      },
      "execution_count": null,
      "outputs": [
        {
          "output_type": "stream",
          "name": "stdout",
          "text": [
            "/content/drive/My Drive/classicmodels_data/classicmodels.db\n",
            "/content/drive/My Drive/classicmodels_data/productlines.csv\n",
            "/content/drive/My Drive/classicmodels_data/productlines.json\n",
            "/content/drive/My Drive/classicmodels_data/products.csv\n",
            "/content/drive/My Drive/classicmodels_data/products.json\n",
            "/content/drive/My Drive/classicmodels_data/offices.csv\n",
            "/content/drive/My Drive/classicmodels_data/offices.json\n",
            "/content/drive/My Drive/classicmodels_data/employees.csv\n",
            "/content/drive/My Drive/classicmodels_data/employees.json\n",
            "/content/drive/My Drive/classicmodels_data/customers.csv\n",
            "/content/drive/My Drive/classicmodels_data/customers.json\n",
            "/content/drive/My Drive/classicmodels_data/orders.csv\n",
            "/content/drive/My Drive/classicmodels_data/orders.json\n",
            "/content/drive/My Drive/classicmodels_data/payments.csv\n",
            "/content/drive/My Drive/classicmodels_data/payments.json\n",
            "/content/drive/My Drive/classicmodels_data/orderdetails.csv\n",
            "/content/drive/My Drive/classicmodels_data/orderdetails.json\n"
          ]
        }
      ]
    },
    {
      "cell_type": "code",
      "source": [
        "import pandas as pd\n",
        "\n",
        "df = pd.read_csv(\"/content/drive/My Drive/classicmodels_data/products.csv\")\n",
        "df.head()\n"
      ],
      "metadata": {
        "colab": {
          "base_uri": "https://localhost:8080/",
          "height": 153
        },
        "id": "lQQ3yMCcijD6",
        "outputId": "54b2f978-8c8a-49cf-8d96-daaffb824e31"
      },
      "execution_count": null,
      "outputs": [
        {
          "output_type": "execute_result",
          "data": {
            "text/plain": [
              "  productCode                            productName  productLine  \\\n",
              "0    S10_1678  1969 Harley Davidson Ultimate Chopper  Motorcycles   \n",
              "\n",
              "  productScale    productVendor  \\\n",
              "0         1:10  Min Lin Diecast   \n",
              "\n",
              "                                  productDescription  quantityInStock  \\\n",
              "0  This replica features working kickstand, front...             7933   \n",
              "\n",
              "   buyPrice  MSRP  \n",
              "0     48.81  95.7  "
            ],
            "text/html": [
              "\n",
              "  <div id=\"df-3aa67af5-b818-4145-975b-11d61df364d3\" class=\"colab-df-container\">\n",
              "    <div>\n",
              "<style scoped>\n",
              "    .dataframe tbody tr th:only-of-type {\n",
              "        vertical-align: middle;\n",
              "    }\n",
              "\n",
              "    .dataframe tbody tr th {\n",
              "        vertical-align: top;\n",
              "    }\n",
              "\n",
              "    .dataframe thead th {\n",
              "        text-align: right;\n",
              "    }\n",
              "</style>\n",
              "<table border=\"1\" class=\"dataframe\">\n",
              "  <thead>\n",
              "    <tr style=\"text-align: right;\">\n",
              "      <th></th>\n",
              "      <th>productCode</th>\n",
              "      <th>productName</th>\n",
              "      <th>productLine</th>\n",
              "      <th>productScale</th>\n",
              "      <th>productVendor</th>\n",
              "      <th>productDescription</th>\n",
              "      <th>quantityInStock</th>\n",
              "      <th>buyPrice</th>\n",
              "      <th>MSRP</th>\n",
              "    </tr>\n",
              "  </thead>\n",
              "  <tbody>\n",
              "    <tr>\n",
              "      <th>0</th>\n",
              "      <td>S10_1678</td>\n",
              "      <td>1969 Harley Davidson Ultimate Chopper</td>\n",
              "      <td>Motorcycles</td>\n",
              "      <td>1:10</td>\n",
              "      <td>Min Lin Diecast</td>\n",
              "      <td>This replica features working kickstand, front...</td>\n",
              "      <td>7933</td>\n",
              "      <td>48.81</td>\n",
              "      <td>95.7</td>\n",
              "    </tr>\n",
              "  </tbody>\n",
              "</table>\n",
              "</div>\n",
              "    <div class=\"colab-df-buttons\">\n",
              "\n",
              "  <div class=\"colab-df-container\">\n",
              "    <button class=\"colab-df-convert\" onclick=\"convertToInteractive('df-3aa67af5-b818-4145-975b-11d61df364d3')\"\n",
              "            title=\"Convert this dataframe to an interactive table.\"\n",
              "            style=\"display:none;\">\n",
              "\n",
              "  <svg xmlns=\"http://www.w3.org/2000/svg\" height=\"24px\" viewBox=\"0 -960 960 960\">\n",
              "    <path d=\"M120-120v-720h720v720H120Zm60-500h600v-160H180v160Zm220 220h160v-160H400v160Zm0 220h160v-160H400v160ZM180-400h160v-160H180v160Zm440 0h160v-160H620v160ZM180-180h160v-160H180v160Zm440 0h160v-160H620v160Z\"/>\n",
              "  </svg>\n",
              "    </button>\n",
              "\n",
              "  <style>\n",
              "    .colab-df-container {\n",
              "      display:flex;\n",
              "      gap: 12px;\n",
              "    }\n",
              "\n",
              "    .colab-df-convert {\n",
              "      background-color: #E8F0FE;\n",
              "      border: none;\n",
              "      border-radius: 50%;\n",
              "      cursor: pointer;\n",
              "      display: none;\n",
              "      fill: #1967D2;\n",
              "      height: 32px;\n",
              "      padding: 0 0 0 0;\n",
              "      width: 32px;\n",
              "    }\n",
              "\n",
              "    .colab-df-convert:hover {\n",
              "      background-color: #E2EBFA;\n",
              "      box-shadow: 0px 1px 2px rgba(60, 64, 67, 0.3), 0px 1px 3px 1px rgba(60, 64, 67, 0.15);\n",
              "      fill: #174EA6;\n",
              "    }\n",
              "\n",
              "    .colab-df-buttons div {\n",
              "      margin-bottom: 4px;\n",
              "    }\n",
              "\n",
              "    [theme=dark] .colab-df-convert {\n",
              "      background-color: #3B4455;\n",
              "      fill: #D2E3FC;\n",
              "    }\n",
              "\n",
              "    [theme=dark] .colab-df-convert:hover {\n",
              "      background-color: #434B5C;\n",
              "      box-shadow: 0px 1px 3px 1px rgba(0, 0, 0, 0.15);\n",
              "      filter: drop-shadow(0px 1px 2px rgba(0, 0, 0, 0.3));\n",
              "      fill: #FFFFFF;\n",
              "    }\n",
              "  </style>\n",
              "\n",
              "    <script>\n",
              "      const buttonEl =\n",
              "        document.querySelector('#df-3aa67af5-b818-4145-975b-11d61df364d3 button.colab-df-convert');\n",
              "      buttonEl.style.display =\n",
              "        google.colab.kernel.accessAllowed ? 'block' : 'none';\n",
              "\n",
              "      async function convertToInteractive(key) {\n",
              "        const element = document.querySelector('#df-3aa67af5-b818-4145-975b-11d61df364d3');\n",
              "        const dataTable =\n",
              "          await google.colab.kernel.invokeFunction('convertToInteractive',\n",
              "                                                    [key], {});\n",
              "        if (!dataTable) return;\n",
              "\n",
              "        const docLinkHtml = 'Like what you see? Visit the ' +\n",
              "          '<a target=\"_blank\" href=https://colab.research.google.com/notebooks/data_table.ipynb>data table notebook</a>'\n",
              "          + ' to learn more about interactive tables.';\n",
              "        element.innerHTML = '';\n",
              "        dataTable['output_type'] = 'display_data';\n",
              "        await google.colab.output.renderOutput(dataTable, element);\n",
              "        const docLink = document.createElement('div');\n",
              "        docLink.innerHTML = docLinkHtml;\n",
              "        element.appendChild(docLink);\n",
              "      }\n",
              "    </script>\n",
              "  </div>\n",
              "\n",
              "\n",
              "    </div>\n",
              "  </div>\n"
            ],
            "application/vnd.google.colaboratory.intrinsic+json": {
              "type": "dataframe",
              "variable_name": "df",
              "summary": "{\n  \"name\": \"df\",\n  \"rows\": 1,\n  \"fields\": [\n    {\n      \"column\": \"productCode\",\n      \"properties\": {\n        \"dtype\": \"string\",\n        \"num_unique_values\": 1,\n        \"samples\": [\n          \"S10_1678\"\n        ],\n        \"semantic_type\": \"\",\n        \"description\": \"\"\n      }\n    },\n    {\n      \"column\": \"productName\",\n      \"properties\": {\n        \"dtype\": \"string\",\n        \"num_unique_values\": 1,\n        \"samples\": [\n          \"1969 Harley Davidson Ultimate Chopper\"\n        ],\n        \"semantic_type\": \"\",\n        \"description\": \"\"\n      }\n    },\n    {\n      \"column\": \"productLine\",\n      \"properties\": {\n        \"dtype\": \"string\",\n        \"num_unique_values\": 1,\n        \"samples\": [\n          \"Motorcycles\"\n        ],\n        \"semantic_type\": \"\",\n        \"description\": \"\"\n      }\n    },\n    {\n      \"column\": \"productScale\",\n      \"properties\": {\n        \"dtype\": \"object\",\n        \"num_unique_values\": 1,\n        \"samples\": [\n          \"1:10\"\n        ],\n        \"semantic_type\": \"\",\n        \"description\": \"\"\n      }\n    },\n    {\n      \"column\": \"productVendor\",\n      \"properties\": {\n        \"dtype\": \"string\",\n        \"num_unique_values\": 1,\n        \"samples\": [\n          \"Min Lin Diecast\"\n        ],\n        \"semantic_type\": \"\",\n        \"description\": \"\"\n      }\n    },\n    {\n      \"column\": \"productDescription\",\n      \"properties\": {\n        \"dtype\": \"string\",\n        \"num_unique_values\": 1,\n        \"samples\": [\n          \"This replica features working kickstand, front suspension, gear-shift lever, footbrake lever, drive chain, wheels and steering. All parts are particularly delicate due to their precise scale and require special care and attention.\"\n        ],\n        \"semantic_type\": \"\",\n        \"description\": \"\"\n      }\n    },\n    {\n      \"column\": \"quantityInStock\",\n      \"properties\": {\n        \"dtype\": \"number\",\n        \"std\": null,\n        \"min\": 7933,\n        \"max\": 7933,\n        \"num_unique_values\": 1,\n        \"samples\": [\n          7933\n        ],\n        \"semantic_type\": \"\",\n        \"description\": \"\"\n      }\n    },\n    {\n      \"column\": \"buyPrice\",\n      \"properties\": {\n        \"dtype\": \"number\",\n        \"std\": null,\n        \"min\": 48.81,\n        \"max\": 48.81,\n        \"num_unique_values\": 1,\n        \"samples\": [\n          48.81\n        ],\n        \"semantic_type\": \"\",\n        \"description\": \"\"\n      }\n    },\n    {\n      \"column\": \"MSRP\",\n      \"properties\": {\n        \"dtype\": \"number\",\n        \"std\": null,\n        \"min\": 95.7,\n        \"max\": 95.7,\n        \"num_unique_values\": 1,\n        \"samples\": [\n          95.7\n        ],\n        \"semantic_type\": \"\",\n        \"description\": \"\"\n      }\n    }\n  ]\n}"
            }
          },
          "metadata": {},
          "execution_count": 38
        }
      ]
    },
    {
      "cell_type": "code",
      "source": [
        "sqlite_path = \"/content/drive/My Drive/classicmodels_data/classicmodels.db\"\n",
        "os.path.exists(sqlite_path)\n"
      ],
      "metadata": {
        "colab": {
          "base_uri": "https://localhost:8080/"
        },
        "id": "G7WonYlZijHI",
        "outputId": "5ed6695e-bf53-4de9-8bab-187c49c34dbd"
      },
      "execution_count": null,
      "outputs": [
        {
          "output_type": "execute_result",
          "data": {
            "text/plain": [
              "True"
            ]
          },
          "metadata": {},
          "execution_count": 39
        }
      ]
    },
    {
      "cell_type": "code",
      "source": [
        "import sqlite3\n",
        "\n",
        "conn = sqlite3.connect(sqlite_path)\n",
        "pd.read_sql(\"SELECT name FROM sqlite_master WHERE type='table'\", conn)\n"
      ],
      "metadata": {
        "colab": {
          "base_uri": "https://localhost:8080/",
          "height": 300
        },
        "id": "_z343hEiijIm",
        "outputId": "2f4dd16e-b836-486f-af27-4579c35652ac"
      },
      "execution_count": null,
      "outputs": [
        {
          "output_type": "execute_result",
          "data": {
            "text/plain": [
              "           name\n",
              "0  productlines\n",
              "1      products\n",
              "2       offices\n",
              "3     employees\n",
              "4     customers\n",
              "5        orders\n",
              "6      payments\n",
              "7  orderdetails"
            ],
            "text/html": [
              "\n",
              "  <div id=\"df-00e021cb-6f6e-4d4e-8cdd-c3ac3ea29cef\" class=\"colab-df-container\">\n",
              "    <div>\n",
              "<style scoped>\n",
              "    .dataframe tbody tr th:only-of-type {\n",
              "        vertical-align: middle;\n",
              "    }\n",
              "\n",
              "    .dataframe tbody tr th {\n",
              "        vertical-align: top;\n",
              "    }\n",
              "\n",
              "    .dataframe thead th {\n",
              "        text-align: right;\n",
              "    }\n",
              "</style>\n",
              "<table border=\"1\" class=\"dataframe\">\n",
              "  <thead>\n",
              "    <tr style=\"text-align: right;\">\n",
              "      <th></th>\n",
              "      <th>name</th>\n",
              "    </tr>\n",
              "  </thead>\n",
              "  <tbody>\n",
              "    <tr>\n",
              "      <th>0</th>\n",
              "      <td>productlines</td>\n",
              "    </tr>\n",
              "    <tr>\n",
              "      <th>1</th>\n",
              "      <td>products</td>\n",
              "    </tr>\n",
              "    <tr>\n",
              "      <th>2</th>\n",
              "      <td>offices</td>\n",
              "    </tr>\n",
              "    <tr>\n",
              "      <th>3</th>\n",
              "      <td>employees</td>\n",
              "    </tr>\n",
              "    <tr>\n",
              "      <th>4</th>\n",
              "      <td>customers</td>\n",
              "    </tr>\n",
              "    <tr>\n",
              "      <th>5</th>\n",
              "      <td>orders</td>\n",
              "    </tr>\n",
              "    <tr>\n",
              "      <th>6</th>\n",
              "      <td>payments</td>\n",
              "    </tr>\n",
              "    <tr>\n",
              "      <th>7</th>\n",
              "      <td>orderdetails</td>\n",
              "    </tr>\n",
              "  </tbody>\n",
              "</table>\n",
              "</div>\n",
              "    <div class=\"colab-df-buttons\">\n",
              "\n",
              "  <div class=\"colab-df-container\">\n",
              "    <button class=\"colab-df-convert\" onclick=\"convertToInteractive('df-00e021cb-6f6e-4d4e-8cdd-c3ac3ea29cef')\"\n",
              "            title=\"Convert this dataframe to an interactive table.\"\n",
              "            style=\"display:none;\">\n",
              "\n",
              "  <svg xmlns=\"http://www.w3.org/2000/svg\" height=\"24px\" viewBox=\"0 -960 960 960\">\n",
              "    <path d=\"M120-120v-720h720v720H120Zm60-500h600v-160H180v160Zm220 220h160v-160H400v160Zm0 220h160v-160H400v160ZM180-400h160v-160H180v160Zm440 0h160v-160H620v160ZM180-180h160v-160H180v160Zm440 0h160v-160H620v160Z\"/>\n",
              "  </svg>\n",
              "    </button>\n",
              "\n",
              "  <style>\n",
              "    .colab-df-container {\n",
              "      display:flex;\n",
              "      gap: 12px;\n",
              "    }\n",
              "\n",
              "    .colab-df-convert {\n",
              "      background-color: #E8F0FE;\n",
              "      border: none;\n",
              "      border-radius: 50%;\n",
              "      cursor: pointer;\n",
              "      display: none;\n",
              "      fill: #1967D2;\n",
              "      height: 32px;\n",
              "      padding: 0 0 0 0;\n",
              "      width: 32px;\n",
              "    }\n",
              "\n",
              "    .colab-df-convert:hover {\n",
              "      background-color: #E2EBFA;\n",
              "      box-shadow: 0px 1px 2px rgba(60, 64, 67, 0.3), 0px 1px 3px 1px rgba(60, 64, 67, 0.15);\n",
              "      fill: #174EA6;\n",
              "    }\n",
              "\n",
              "    .colab-df-buttons div {\n",
              "      margin-bottom: 4px;\n",
              "    }\n",
              "\n",
              "    [theme=dark] .colab-df-convert {\n",
              "      background-color: #3B4455;\n",
              "      fill: #D2E3FC;\n",
              "    }\n",
              "\n",
              "    [theme=dark] .colab-df-convert:hover {\n",
              "      background-color: #434B5C;\n",
              "      box-shadow: 0px 1px 3px 1px rgba(0, 0, 0, 0.15);\n",
              "      filter: drop-shadow(0px 1px 2px rgba(0, 0, 0, 0.3));\n",
              "      fill: #FFFFFF;\n",
              "    }\n",
              "  </style>\n",
              "\n",
              "    <script>\n",
              "      const buttonEl =\n",
              "        document.querySelector('#df-00e021cb-6f6e-4d4e-8cdd-c3ac3ea29cef button.colab-df-convert');\n",
              "      buttonEl.style.display =\n",
              "        google.colab.kernel.accessAllowed ? 'block' : 'none';\n",
              "\n",
              "      async function convertToInteractive(key) {\n",
              "        const element = document.querySelector('#df-00e021cb-6f6e-4d4e-8cdd-c3ac3ea29cef');\n",
              "        const dataTable =\n",
              "          await google.colab.kernel.invokeFunction('convertToInteractive',\n",
              "                                                    [key], {});\n",
              "        if (!dataTable) return;\n",
              "\n",
              "        const docLinkHtml = 'Like what you see? Visit the ' +\n",
              "          '<a target=\"_blank\" href=https://colab.research.google.com/notebooks/data_table.ipynb>data table notebook</a>'\n",
              "          + ' to learn more about interactive tables.';\n",
              "        element.innerHTML = '';\n",
              "        dataTable['output_type'] = 'display_data';\n",
              "        await google.colab.output.renderOutput(dataTable, element);\n",
              "        const docLink = document.createElement('div');\n",
              "        docLink.innerHTML = docLinkHtml;\n",
              "        element.appendChild(docLink);\n",
              "      }\n",
              "    </script>\n",
              "  </div>\n",
              "\n",
              "\n",
              "    <div id=\"df-96508f01-87a1-439c-8d15-68761c9d10e5\">\n",
              "      <button class=\"colab-df-quickchart\" onclick=\"quickchart('df-96508f01-87a1-439c-8d15-68761c9d10e5')\"\n",
              "                title=\"Suggest charts\"\n",
              "                style=\"display:none;\">\n",
              "\n",
              "<svg xmlns=\"http://www.w3.org/2000/svg\" height=\"24px\"viewBox=\"0 0 24 24\"\n",
              "     width=\"24px\">\n",
              "    <g>\n",
              "        <path d=\"M19 3H5c-1.1 0-2 .9-2 2v14c0 1.1.9 2 2 2h14c1.1 0 2-.9 2-2V5c0-1.1-.9-2-2-2zM9 17H7v-7h2v7zm4 0h-2V7h2v10zm4 0h-2v-4h2v4z\"/>\n",
              "    </g>\n",
              "</svg>\n",
              "      </button>\n",
              "\n",
              "<style>\n",
              "  .colab-df-quickchart {\n",
              "      --bg-color: #E8F0FE;\n",
              "      --fill-color: #1967D2;\n",
              "      --hover-bg-color: #E2EBFA;\n",
              "      --hover-fill-color: #174EA6;\n",
              "      --disabled-fill-color: #AAA;\n",
              "      --disabled-bg-color: #DDD;\n",
              "  }\n",
              "\n",
              "  [theme=dark] .colab-df-quickchart {\n",
              "      --bg-color: #3B4455;\n",
              "      --fill-color: #D2E3FC;\n",
              "      --hover-bg-color: #434B5C;\n",
              "      --hover-fill-color: #FFFFFF;\n",
              "      --disabled-bg-color: #3B4455;\n",
              "      --disabled-fill-color: #666;\n",
              "  }\n",
              "\n",
              "  .colab-df-quickchart {\n",
              "    background-color: var(--bg-color);\n",
              "    border: none;\n",
              "    border-radius: 50%;\n",
              "    cursor: pointer;\n",
              "    display: none;\n",
              "    fill: var(--fill-color);\n",
              "    height: 32px;\n",
              "    padding: 0;\n",
              "    width: 32px;\n",
              "  }\n",
              "\n",
              "  .colab-df-quickchart:hover {\n",
              "    background-color: var(--hover-bg-color);\n",
              "    box-shadow: 0 1px 2px rgba(60, 64, 67, 0.3), 0 1px 3px 1px rgba(60, 64, 67, 0.15);\n",
              "    fill: var(--button-hover-fill-color);\n",
              "  }\n",
              "\n",
              "  .colab-df-quickchart-complete:disabled,\n",
              "  .colab-df-quickchart-complete:disabled:hover {\n",
              "    background-color: var(--disabled-bg-color);\n",
              "    fill: var(--disabled-fill-color);\n",
              "    box-shadow: none;\n",
              "  }\n",
              "\n",
              "  .colab-df-spinner {\n",
              "    border: 2px solid var(--fill-color);\n",
              "    border-color: transparent;\n",
              "    border-bottom-color: var(--fill-color);\n",
              "    animation:\n",
              "      spin 1s steps(1) infinite;\n",
              "  }\n",
              "\n",
              "  @keyframes spin {\n",
              "    0% {\n",
              "      border-color: transparent;\n",
              "      border-bottom-color: var(--fill-color);\n",
              "      border-left-color: var(--fill-color);\n",
              "    }\n",
              "    20% {\n",
              "      border-color: transparent;\n",
              "      border-left-color: var(--fill-color);\n",
              "      border-top-color: var(--fill-color);\n",
              "    }\n",
              "    30% {\n",
              "      border-color: transparent;\n",
              "      border-left-color: var(--fill-color);\n",
              "      border-top-color: var(--fill-color);\n",
              "      border-right-color: var(--fill-color);\n",
              "    }\n",
              "    40% {\n",
              "      border-color: transparent;\n",
              "      border-right-color: var(--fill-color);\n",
              "      border-top-color: var(--fill-color);\n",
              "    }\n",
              "    60% {\n",
              "      border-color: transparent;\n",
              "      border-right-color: var(--fill-color);\n",
              "    }\n",
              "    80% {\n",
              "      border-color: transparent;\n",
              "      border-right-color: var(--fill-color);\n",
              "      border-bottom-color: var(--fill-color);\n",
              "    }\n",
              "    90% {\n",
              "      border-color: transparent;\n",
              "      border-bottom-color: var(--fill-color);\n",
              "    }\n",
              "  }\n",
              "</style>\n",
              "\n",
              "      <script>\n",
              "        async function quickchart(key) {\n",
              "          const quickchartButtonEl =\n",
              "            document.querySelector('#' + key + ' button');\n",
              "          quickchartButtonEl.disabled = true;  // To prevent multiple clicks.\n",
              "          quickchartButtonEl.classList.add('colab-df-spinner');\n",
              "          try {\n",
              "            const charts = await google.colab.kernel.invokeFunction(\n",
              "                'suggestCharts', [key], {});\n",
              "          } catch (error) {\n",
              "            console.error('Error during call to suggestCharts:', error);\n",
              "          }\n",
              "          quickchartButtonEl.classList.remove('colab-df-spinner');\n",
              "          quickchartButtonEl.classList.add('colab-df-quickchart-complete');\n",
              "        }\n",
              "        (() => {\n",
              "          let quickchartButtonEl =\n",
              "            document.querySelector('#df-96508f01-87a1-439c-8d15-68761c9d10e5 button');\n",
              "          quickchartButtonEl.style.display =\n",
              "            google.colab.kernel.accessAllowed ? 'block' : 'none';\n",
              "        })();\n",
              "      </script>\n",
              "    </div>\n",
              "\n",
              "    </div>\n",
              "  </div>\n"
            ],
            "application/vnd.google.colaboratory.intrinsic+json": {
              "type": "dataframe",
              "summary": "{\n  \"name\": \"pd\",\n  \"rows\": 8,\n  \"fields\": [\n    {\n      \"column\": \"name\",\n      \"properties\": {\n        \"dtype\": \"string\",\n        \"num_unique_values\": 8,\n        \"samples\": [\n          \"products\",\n          \"orders\",\n          \"productlines\"\n        ],\n        \"semantic_type\": \"\",\n        \"description\": \"\"\n      }\n    }\n  ]\n}"
            }
          },
          "metadata": {},
          "execution_count": 40
        }
      ]
    },
    {
      "cell_type": "code",
      "source": [
        "from IPython.display import FileLink\n",
        "\n",
        "for file in os.listdir(output_folder):\n",
        "    path = os.path.join(output_folder, file)\n",
        "    display(FileLink(path))\n"
      ],
      "metadata": {
        "colab": {
          "base_uri": "https://localhost:8080/",
          "height": 312
        },
        "id": "IRef6hiHijLc",
        "outputId": "2878badd-e86c-4dbb-c03f-0383ecf841d9"
      },
      "execution_count": null,
      "outputs": [
        {
          "output_type": "display_data",
          "data": {
            "text/plain": [
              "/content/drive/My Drive/classicmodels_data/classicmodels.db"
            ],
            "text/html": [
              "<a href='/content/drive/My Drive/classicmodels_data/classicmodels.db' target='_blank'>/content/drive/My Drive/classicmodels_data/classicmodels.db</a><br>"
            ]
          },
          "metadata": {}
        },
        {
          "output_type": "display_data",
          "data": {
            "text/plain": [
              "/content/drive/My Drive/classicmodels_data/productlines.csv"
            ],
            "text/html": [
              "<a href='/content/drive/My Drive/classicmodels_data/productlines.csv' target='_blank'>/content/drive/My Drive/classicmodels_data/productlines.csv</a><br>"
            ]
          },
          "metadata": {}
        },
        {
          "output_type": "display_data",
          "data": {
            "text/plain": [
              "/content/drive/My Drive/classicmodels_data/productlines.json"
            ],
            "text/html": [
              "<a href='/content/drive/My Drive/classicmodels_data/productlines.json' target='_blank'>/content/drive/My Drive/classicmodels_data/productlines.json</a><br>"
            ]
          },
          "metadata": {}
        },
        {
          "output_type": "display_data",
          "data": {
            "text/plain": [
              "/content/drive/My Drive/classicmodels_data/products.csv"
            ],
            "text/html": [
              "<a href='/content/drive/My Drive/classicmodels_data/products.csv' target='_blank'>/content/drive/My Drive/classicmodels_data/products.csv</a><br>"
            ]
          },
          "metadata": {}
        },
        {
          "output_type": "display_data",
          "data": {
            "text/plain": [
              "/content/drive/My Drive/classicmodels_data/products.json"
            ],
            "text/html": [
              "<a href='/content/drive/My Drive/classicmodels_data/products.json' target='_blank'>/content/drive/My Drive/classicmodels_data/products.json</a><br>"
            ]
          },
          "metadata": {}
        },
        {
          "output_type": "display_data",
          "data": {
            "text/plain": [
              "/content/drive/My Drive/classicmodels_data/offices.csv"
            ],
            "text/html": [
              "<a href='/content/drive/My Drive/classicmodels_data/offices.csv' target='_blank'>/content/drive/My Drive/classicmodels_data/offices.csv</a><br>"
            ]
          },
          "metadata": {}
        },
        {
          "output_type": "display_data",
          "data": {
            "text/plain": [
              "/content/drive/My Drive/classicmodels_data/offices.json"
            ],
            "text/html": [
              "<a href='/content/drive/My Drive/classicmodels_data/offices.json' target='_blank'>/content/drive/My Drive/classicmodels_data/offices.json</a><br>"
            ]
          },
          "metadata": {}
        },
        {
          "output_type": "display_data",
          "data": {
            "text/plain": [
              "/content/drive/My Drive/classicmodels_data/employees.csv"
            ],
            "text/html": [
              "<a href='/content/drive/My Drive/classicmodels_data/employees.csv' target='_blank'>/content/drive/My Drive/classicmodels_data/employees.csv</a><br>"
            ]
          },
          "metadata": {}
        },
        {
          "output_type": "display_data",
          "data": {
            "text/plain": [
              "/content/drive/My Drive/classicmodels_data/employees.json"
            ],
            "text/html": [
              "<a href='/content/drive/My Drive/classicmodels_data/employees.json' target='_blank'>/content/drive/My Drive/classicmodels_data/employees.json</a><br>"
            ]
          },
          "metadata": {}
        },
        {
          "output_type": "display_data",
          "data": {
            "text/plain": [
              "/content/drive/My Drive/classicmodels_data/customers.csv"
            ],
            "text/html": [
              "<a href='/content/drive/My Drive/classicmodels_data/customers.csv' target='_blank'>/content/drive/My Drive/classicmodels_data/customers.csv</a><br>"
            ]
          },
          "metadata": {}
        },
        {
          "output_type": "display_data",
          "data": {
            "text/plain": [
              "/content/drive/My Drive/classicmodels_data/customers.json"
            ],
            "text/html": [
              "<a href='/content/drive/My Drive/classicmodels_data/customers.json' target='_blank'>/content/drive/My Drive/classicmodels_data/customers.json</a><br>"
            ]
          },
          "metadata": {}
        },
        {
          "output_type": "display_data",
          "data": {
            "text/plain": [
              "/content/drive/My Drive/classicmodels_data/orders.csv"
            ],
            "text/html": [
              "<a href='/content/drive/My Drive/classicmodels_data/orders.csv' target='_blank'>/content/drive/My Drive/classicmodels_data/orders.csv</a><br>"
            ]
          },
          "metadata": {}
        },
        {
          "output_type": "display_data",
          "data": {
            "text/plain": [
              "/content/drive/My Drive/classicmodels_data/orders.json"
            ],
            "text/html": [
              "<a href='/content/drive/My Drive/classicmodels_data/orders.json' target='_blank'>/content/drive/My Drive/classicmodels_data/orders.json</a><br>"
            ]
          },
          "metadata": {}
        },
        {
          "output_type": "display_data",
          "data": {
            "text/plain": [
              "/content/drive/My Drive/classicmodels_data/payments.csv"
            ],
            "text/html": [
              "<a href='/content/drive/My Drive/classicmodels_data/payments.csv' target='_blank'>/content/drive/My Drive/classicmodels_data/payments.csv</a><br>"
            ]
          },
          "metadata": {}
        },
        {
          "output_type": "display_data",
          "data": {
            "text/plain": [
              "/content/drive/My Drive/classicmodels_data/payments.json"
            ],
            "text/html": [
              "<a href='/content/drive/My Drive/classicmodels_data/payments.json' target='_blank'>/content/drive/My Drive/classicmodels_data/payments.json</a><br>"
            ]
          },
          "metadata": {}
        },
        {
          "output_type": "display_data",
          "data": {
            "text/plain": [
              "/content/drive/My Drive/classicmodels_data/orderdetails.csv"
            ],
            "text/html": [
              "<a href='/content/drive/My Drive/classicmodels_data/orderdetails.csv' target='_blank'>/content/drive/My Drive/classicmodels_data/orderdetails.csv</a><br>"
            ]
          },
          "metadata": {}
        },
        {
          "output_type": "display_data",
          "data": {
            "text/plain": [
              "/content/drive/My Drive/classicmodels_data/orderdetails.json"
            ],
            "text/html": [
              "<a href='/content/drive/My Drive/classicmodels_data/orderdetails.json' target='_blank'>/content/drive/My Drive/classicmodels_data/orderdetails.json</a><br>"
            ]
          },
          "metadata": {}
        }
      ]
    }
  ]
}