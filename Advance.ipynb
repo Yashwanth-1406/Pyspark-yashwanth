{
  "nbformat": 4,
  "nbformat_minor": 0,
  "metadata": {
    "colab": {
      "provenance": [],
      "authorship_tag": "ABX9TyN8yd1v/mRYWew/mS8o74Tk",
      "include_colab_link": true
    },
    "kernelspec": {
      "name": "python3",
      "display_name": "Python 3"
    },
    "language_info": {
      "name": "python"
    }
  },
  "cells": [
    {
      "cell_type": "markdown",
      "metadata": {
        "id": "view-in-github",
        "colab_type": "text"
      },
      "source": [
        "<a href=\"https://colab.research.google.com/github/Yashwanth-1406/Pyspark-yashwanth/blob/main/Advance.ipynb\" target=\"_parent\"><img src=\"https://colab.research.google.com/assets/colab-badge.svg\" alt=\"Open In Colab\"/></a>"
      ]
    },
    {
      "cell_type": "markdown",
      "source": [
        "# **adv.pyspark(window function)**"
      ],
      "metadata": {
        "id": "2fJSVp76aoYD"
      }
    },
    {
      "cell_type": "code",
      "source": [
        "from pyspark.sql import SparkSession\n",
        "from pyspark.sql.functions import *\n",
        "\n",
        "spark = SparkSession.builder.appName(\"AdvancedOps\").getOrCreate()\n",
        "\n",
        "data = [\n",
        "    (1, \"Alice\", 2000, [\"math\", \"science\"], {\"city\": \"NYC\", \"zip\": \"10001\"}),\n",
        "    (2, \"Bob\", 1500, [\"english\"], {\"city\": \"SF\", \"zip\": \"94105\"}),\n",
        "    (3, \"Charlie\", 2200, [\"math\", \"history\", \"science\"], {\"city\": \"NYC\", \"zip\": \"10001\"}),\n",
        "    (4, \"David\", 1200, [\"art\"], {\"city\": \"LA\", \"zip\": \"90001\"}),\n",
        "]\n",
        "\n",
        "df = spark.createDataFrame(data, schema=[\"id\", \"name\", \"salary\", \"subjects\", \"address\"])\n",
        "df.show(truncate=False)"
      ],
      "metadata": {
        "colab": {
          "base_uri": "https://localhost:8080/"
        },
        "id": "EtfGaQFYYceG",
        "outputId": "2c9f065e-a059-4393-885c-b170db414f0c"
      },
      "execution_count": 3,
      "outputs": [
        {
          "output_type": "stream",
          "name": "stdout",
          "text": [
            "+---+-------+------+------------------------+---------------------------+\n",
            "|id |name   |salary|subjects                |address                    |\n",
            "+---+-------+------+------------------------+---------------------------+\n",
            "|1  |Alice  |2000  |[math, science]         |{zip -> 10001, city -> NYC}|\n",
            "|2  |Bob    |1500  |[english]               |{zip -> 94105, city -> SF} |\n",
            "|3  |Charlie|2200  |[math, history, science]|{zip -> 10001, city -> NYC}|\n",
            "|4  |David  |1200  |[art]                   |{zip -> 90001, city -> LA} |\n",
            "+---+-------+------+------------------------+---------------------------+\n",
            "\n"
          ]
        }
      ]
    },
    {
      "cell_type": "code",
      "source": [
        "from pyspark.sql.window import Window\n",
        "from pyspark.sql.functions import rank\n",
        "\n",
        "# Define window spec\n",
        "window_spec = Window.partitionBy(\"address.city\").orderBy(\"salary\")\n",
        "\n",
        "# Apply rank over the window\n",
        "df.withColumn(\"rank\", rank().over(window_spec)).show()\n"
      ],
      "metadata": {
        "colab": {
          "base_uri": "https://localhost:8080/"
        },
        "id": "85eX1N0NYd0H",
        "outputId": "16123d6e-6c4f-457a-e5c3-e8cf252d52f6"
      },
      "execution_count": 6,
      "outputs": [
        {
          "output_type": "stream",
          "name": "stdout",
          "text": [
            "+---+-------+------+--------------------+--------------------+----+\n",
            "| id|   name|salary|            subjects|             address|rank|\n",
            "+---+-------+------+--------------------+--------------------+----+\n",
            "|  4|  David|  1200|               [art]|{zip -> 90001, ci...|   1|\n",
            "|  1|  Alice|  2000|     [math, science]|{zip -> 10001, ci...|   1|\n",
            "|  3|Charlie|  2200|[math, history, s...|{zip -> 10001, ci...|   2|\n",
            "|  2|    Bob|  1500|           [english]|{zip -> 94105, ci...|   1|\n",
            "+---+-------+------+--------------------+--------------------+----+\n",
            "\n"
          ]
        }
      ]
    },
    {
      "cell_type": "code",
      "source": [
        "from pyspark.sql.window import Window\n",
        "from pyspark.sql.functions import col, row_number, rank, dense_rank, max, sum, avg\n",
        "\n",
        "# Employee Data\n",
        "data = [\n",
        "    (1, \"John\", \"Sales\", 3000),\n",
        "    (2, \"Jane\", \"Finance\", 4000),\n",
        "    (3, \"Mike\", \"Sales\", 3500),\n",
        "    (4, \"Alice\", \"Finance\", 3800),\n",
        "    (5, \"Bob\", \"IT\", 4500),\n",
        "    (6, \"Tom\", \"Sales\", 3700),\n",
        "    (7, \"Jerry\", \"Finance\", 4200),\n",
        "    (8, \"Sam\", \"IT\", 4700),\n",
        "    (9, \"Steve\", \"Sales\", 3100),\n",
        "    (10, \"Rachel\", \"IT\", 4600)\n",
        "]\n",
        "columns = [\"EmpID\", \"Name\", \"Department\", \"Salary\"]\n",
        "df = spark.createDataFrame(data, columns)\n",
        "\n",
        "df.show()"
      ],
      "metadata": {
        "colab": {
          "base_uri": "https://localhost:8080/"
        },
        "id": "Z-uxJHyAdE3M",
        "outputId": "4dcd79c4-642b-40aa-ed40-9b3e22e97474"
      },
      "execution_count": 7,
      "outputs": [
        {
          "output_type": "stream",
          "name": "stdout",
          "text": [
            "+-----+------+----------+------+\n",
            "|EmpID|  Name|Department|Salary|\n",
            "+-----+------+----------+------+\n",
            "|    1|  John|     Sales|  3000|\n",
            "|    2|  Jane|   Finance|  4000|\n",
            "|    3|  Mike|     Sales|  3500|\n",
            "|    4| Alice|   Finance|  3800|\n",
            "|    5|   Bob|        IT|  4500|\n",
            "|    6|   Tom|     Sales|  3700|\n",
            "|    7| Jerry|   Finance|  4200|\n",
            "|    8|   Sam|        IT|  4700|\n",
            "|    9| Steve|     Sales|  3100|\n",
            "|   10|Rachel|        IT|  4600|\n",
            "+-----+------+----------+------+\n",
            "\n"
          ]
        }
      ]
    },
    {
      "cell_type": "code",
      "source": [
        "windowSpec=Window.partitionBy(\"Department\").orderBy(col(\"Salary\").desc())\n",
        "df.withColumn(\"Rank\",rank().over(windowSpec)).show()"
      ],
      "metadata": {
        "colab": {
          "base_uri": "https://localhost:8080/"
        },
        "id": "c5QyDF48dE0Q",
        "outputId": "d037a15d-904c-4981-df7d-a941e84050d6"
      },
      "execution_count": 8,
      "outputs": [
        {
          "output_type": "stream",
          "name": "stdout",
          "text": [
            "+-----+------+----------+------+----+\n",
            "|EmpID|  Name|Department|Salary|Rank|\n",
            "+-----+------+----------+------+----+\n",
            "|    7| Jerry|   Finance|  4200|   1|\n",
            "|    2|  Jane|   Finance|  4000|   2|\n",
            "|    4| Alice|   Finance|  3800|   3|\n",
            "|    8|   Sam|        IT|  4700|   1|\n",
            "|   10|Rachel|        IT|  4600|   2|\n",
            "|    5|   Bob|        IT|  4500|   3|\n",
            "|    6|   Tom|     Sales|  3700|   1|\n",
            "|    3|  Mike|     Sales|  3500|   2|\n",
            "|    9| Steve|     Sales|  3100|   3|\n",
            "|    1|  John|     Sales|  3000|   4|\n",
            "+-----+------+----------+------+----+\n",
            "\n"
          ]
        }
      ]
    },
    {
      "cell_type": "code",
      "source": [
        "windowSpec=Window.partitionBy(\"Department\")\n",
        "df.withColumn(\"MaxSalary\",max(\"Salary\").over(windowSpec)).show()"
      ],
      "metadata": {
        "colab": {
          "base_uri": "https://localhost:8080/"
        },
        "id": "eg32rLx9dExp",
        "outputId": "c48753bd-7c09-438f-8319-918daca45c64"
      },
      "execution_count": 9,
      "outputs": [
        {
          "output_type": "stream",
          "name": "stdout",
          "text": [
            "+-----+------+----------+------+---------+\n",
            "|EmpID|  Name|Department|Salary|MaxSalary|\n",
            "+-----+------+----------+------+---------+\n",
            "|    2|  Jane|   Finance|  4000|     4200|\n",
            "|    4| Alice|   Finance|  3800|     4200|\n",
            "|    7| Jerry|   Finance|  4200|     4200|\n",
            "|    5|   Bob|        IT|  4500|     4700|\n",
            "|    8|   Sam|        IT|  4700|     4700|\n",
            "|   10|Rachel|        IT|  4600|     4700|\n",
            "|    1|  John|     Sales|  3000|     3700|\n",
            "|    3|  Mike|     Sales|  3500|     3700|\n",
            "|    6|   Tom|     Sales|  3700|     3700|\n",
            "|    9| Steve|     Sales|  3100|     3700|\n",
            "+-----+------+----------+------+---------+\n",
            "\n"
          ]
        }
      ]
    },
    {
      "cell_type": "code",
      "source": [
        "\n",
        "windowSpec = Window.partitionBy(\"Department\")\n",
        "df.groupBy(\"Department\") \\\n",
        "  .agg(max(\"Salary\").alias(\"MaxSalary\")) \\\n",
        "  .show()\n"
      ],
      "metadata": {
        "colab": {
          "base_uri": "https://localhost:8080/"
        },
        "id": "vHw_ayibdEvM",
        "outputId": "328a09f0-443a-4efb-cb09-92e939505e1c"
      },
      "execution_count": 10,
      "outputs": [
        {
          "output_type": "stream",
          "name": "stdout",
          "text": [
            "+----------+---------+\n",
            "|Department|MaxSalary|\n",
            "+----------+---------+\n",
            "|     Sales|     3700|\n",
            "|   Finance|     4200|\n",
            "|        IT|     4700|\n",
            "+----------+---------+\n",
            "\n"
          ]
        }
      ]
    },
    {
      "cell_type": "code",
      "source": [
        "from pyspark.sql.window import Window\n",
        "from pyspark.sql.functions import sum\n",
        "\n",
        "windowSpec = Window.partitionBy(\"Department\") \\\n",
        "                   .orderBy(\"Salary\") \\\n",
        "                   .rowsBetween(Window.unboundedPreceding, 0)\n",
        "\n",
        "df.withColumn(\"CumulativeSalary\", sum(\"Salary\").over(windowSpec)).show()\n"
      ],
      "metadata": {
        "colab": {
          "base_uri": "https://localhost:8080/"
        },
        "id": "smHWcPAFdEsj",
        "outputId": "0e114e73-43fc-44ea-e828-d1116964e68a"
      },
      "execution_count": 11,
      "outputs": [
        {
          "output_type": "stream",
          "name": "stdout",
          "text": [
            "+-----+------+----------+------+----------------+\n",
            "|EmpID|  Name|Department|Salary|CumulativeSalary|\n",
            "+-----+------+----------+------+----------------+\n",
            "|    4| Alice|   Finance|  3800|            3800|\n",
            "|    2|  Jane|   Finance|  4000|            7800|\n",
            "|    7| Jerry|   Finance|  4200|           12000|\n",
            "|    5|   Bob|        IT|  4500|            4500|\n",
            "|   10|Rachel|        IT|  4600|            9100|\n",
            "|    8|   Sam|        IT|  4700|           13800|\n",
            "|    1|  John|     Sales|  3000|            3000|\n",
            "|    9| Steve|     Sales|  3100|            6100|\n",
            "|    3|  Mike|     Sales|  3500|            9600|\n",
            "|    6|   Tom|     Sales|  3700|           13300|\n",
            "+-----+------+----------+------+----------------+\n",
            "\n"
          ]
        }
      ]
    },
    {
      "cell_type": "code",
      "source": [
        "windowSpec = Window.partitionBy(\"Department\") \\\n",
        "                   .orderBy(\"Salary\") \\\n",
        "                   .rowsBetween(-1, 0)\n",
        "\n",
        "df.withColumn(\"PreviousSalary\", first(\"Salary\").over(windowSpec)).show()"
      ],
      "metadata": {
        "colab": {
          "base_uri": "https://localhost:8080/"
        },
        "id": "YncUasQ4dEoY",
        "outputId": "7a815eaf-04d6-4cba-965e-3572fe9416ea"
      },
      "execution_count": 12,
      "outputs": [
        {
          "output_type": "stream",
          "name": "stdout",
          "text": [
            "+-----+------+----------+------+--------------+\n",
            "|EmpID|  Name|Department|Salary|PreviousSalary|\n",
            "+-----+------+----------+------+--------------+\n",
            "|    4| Alice|   Finance|  3800|          3800|\n",
            "|    2|  Jane|   Finance|  4000|          3800|\n",
            "|    7| Jerry|   Finance|  4200|          4000|\n",
            "|    5|   Bob|        IT|  4500|          4500|\n",
            "|   10|Rachel|        IT|  4600|          4500|\n",
            "|    8|   Sam|        IT|  4700|          4600|\n",
            "|    1|  John|     Sales|  3000|          3000|\n",
            "|    9| Steve|     Sales|  3100|          3000|\n",
            "|    3|  Mike|     Sales|  3500|          3100|\n",
            "|    6|   Tom|     Sales|  3700|          3500|\n",
            "+-----+------+----------+------+--------------+\n",
            "\n"
          ]
        }
      ]
    },
    {
      "cell_type": "code",
      "source": [],
      "metadata": {
        "id": "XF2hTvpZdEeI"
      },
      "execution_count": null,
      "outputs": []
    },
    {
      "cell_type": "code",
      "execution_count": null,
      "metadata": {
        "id": "cWl1x4BKQ0HV"
      },
      "outputs": [],
      "source": []
    }
  ]
}